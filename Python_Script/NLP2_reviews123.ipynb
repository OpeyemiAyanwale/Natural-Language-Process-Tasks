{
 "cells": [
  {
   "cell_type": "code",
   "execution_count": null,
   "id": "7bb9a45c",
   "metadata": {},
   "outputs": [],
   "source": [
    "# Exercise sheet 2 with 2 movie reviews: reviews1.txt, reviews2.txt\n",
    "# and reviews3.txt. One of the files has a UTF-16 encoding, while the other two are UTF-8\n",
    "# encoded."
   ]
  },
  {
   "cell_type": "markdown",
   "id": "b8054e59",
   "metadata": {},
   "source": [
    "# Task 1\n",
    "# Load the texts within them into your console. If you have used the correct encoding, the texts in your console should be readable for a human. Each review should be one element in a list of six total elements.\n"
   ]
  },
  {
   "cell_type": "code",
   "execution_count": 1,
   "id": "cb9fcb97",
   "metadata": {},
   "outputs": [],
   "source": [
    "# You can either load Required Libraries ahead or step by step\n",
    "import os\n",
    "import re\n",
    "from collections import Counter\n",
    "from nltk.stem import PorterStemmer, WordNetLemmatizer\n",
    "from nltk.corpus import stopwords"
   ]
  },
  {
   "cell_type": "code",
   "execution_count": 2,
   "id": "724ba36e",
   "metadata": {},
   "outputs": [
    {
     "name": "stderr",
     "output_type": "stream",
     "text": [
      "[nltk_data] Downloading package wordnet to\n",
      "[nltk_data]     /Users/oayanwale/nltk_data...\n",
      "[nltk_data]   Package wordnet is already up-to-date!\n",
      "[nltk_data] Downloading package stopwords to\n",
      "[nltk_data]     /Users/oayanwale/nltk_data...\n",
      "[nltk_data]   Package stopwords is already up-to-date!\n",
      "[nltk_data] Downloading package omw-1.4 to\n",
      "[nltk_data]     /Users/oayanwale/nltk_data...\n"
     ]
    },
    {
     "data": {
      "text/plain": [
       "True"
      ]
     },
     "execution_count": 2,
     "metadata": {},
     "output_type": "execute_result"
    }
   ],
   "source": [
    "# Ensure NLTK resources are downloaded\n",
    "import nltk\n",
    "nltk.download('wordnet')\n",
    "nltk.download('stopwords')\n",
    "nltk.download('omw-1.4')"
   ]
  },
  {
   "cell_type": "code",
   "execution_count": null,
   "id": "bf5a6ea9",
   "metadata": {},
   "outputs": [],
   "source": [
    "#Task 1: Load Movie Reviews\n",
    "#load the three review files, ensuring you're handling the different encodings correctly."
   ]
  },
  {
   "cell_type": "code",
   "execution_count": 4,
   "id": "edb9009c",
   "metadata": {
    "scrolled": true
   },
   "outputs": [
    {
     "name": "stdout",
     "output_type": "stream",
     "text": [
      "[\"Story of a man who has unnatural feelings for a pig. Starts out with a opening scene that is a terrific example of absurd comedy. A formal orchestra audience is turned into an insane, violent mob by the crazy chantings of it's singers. Unfortunately it stays absurd the WHOLE time with no general narrative eventually making it just too off putting. Even those from the era should be turned off. The cryptic dialogue would make Shakespeare seem easy to a third grader. On a technical level it's better than you might think with some good cinematography by future great Vilmos Zsigmond. Future stars Sally Kirkland and Frederic Forrest can be seen briefly.\", 'Bromwell High is nothing short of brilliant. Expertly scripted and perfectly delivered, this searing parody of a students and teachers at a South London Public School leaves you literally rolling with laughter. It\\'s vulgar, provocative, witty and sharp. The characters are a superbly caricatured cross section of British society (or to be more accurate, of any society). Following the escapades of Keisha, Latrina and Natella, our three \"protagonists\" for want of a better term, the show doesn\\'t shy away from parodying every imaginable subject. Political correctness flies out the window in every episode. If you enjoy shows that aren\\'t afraid to poke fun of every taboo subject imaginable, then Bromwell High will not disappoint!', \"If I had not read Pat Barker's 'Union Street' before seeing this film, I would have liked it. Unfortuntately this is not the case. It is actually my kind of film, it is well made, and in no way do I want to say otherwise, but as an adaptation, it fails from every angle.<br /><br />The harrowing novel about the reality of living in a northern England working-class area grabbed hold of my heartstrings and refused to let go for weeks after I had finished. I was put through tears, repulsion, shock, anger, sympathy and misery when reading about the women of Union Street. Excellent. A novel that at times I felt I could not read any more of, but I novel I simply couldn't put down. Depressing yes, but utterly gripping.<br /><br />The film. Oh dear. Hollywood took Barker's truth and reality, and showered a layer of sweet icing sugar over the top of it. A beautiful film, an inspiring soundtrack, excellent performances, a tale of hope and romance...yes. An adaptation of 'Union Street'...no.<br /><br />The women of Union Street and their stories are condensed into Fonda's character, their stories are touched on, but many are discarded. I accept that some of Barker's tales are sensitive issues and are too horrific for mass viewing, and that a film with around 7 leading protagonists just isn't practical, but the content is not my main issue. The essence and the real gut of the novel is lost - darkness and rain, broken windows covered with cardboard, and the graphically described stench of poverty is replaced with sunshine, pretty houses, and a twinkling William's score.<br /><br />If you enjoyed the film for its positivity and hope in the face of 'reality', I advise that you hesitate to read the book without first preparing yourself for something more like 'Schindler's List'...but without the happy ending.\", 'Bromwell High is a cartoon comedy. It ran at the same time as some other programs about school life, such as \"Teachers\". My 35 years in the teaching profession lead me to believe that Bromwell High\\'s satire is much closer to reality than is \"Teachers\". The scramble to survive financially, the insightful students who can see right through their pathetic teachers\\' pomp, the pettiness of the whole situation, all remind me of the schools I knew and their students. When I saw the episode in which a student repeatedly tried to burn down the school, I immediately recalled ......... at .......... High. A classic line: INSPECTOR: I\\'m here to sack one of your teachers. STUDENT: Welcome to Bromwell High. I expect that many adults of my age think that Bromwell High is far fetched. What a pity that it isn\\'t!', \"Robert DeNiro plays the most unbelievably intelligent illiterate of all time. This movie is so wasteful of talent, it is truly disgusting. The script is unbelievable. The dialog is unbelievable. Jane Fonda's character is a caricature of herself, and not a funny one. The movie moves at a snail's pace, is photographed in an ill-advised manner, and is insufferably preachy. It also plugs in every cliche in the book. Swoozie Kurtz is excellent in a supporting role, but so what?<br /><br />Equally annoying is this new IMDB rule of requiring ten lines for every review. When a movie is this worthless, it doesn't require ten lines of text to let other readers know that it is a waste of time and tape. Avoid this movie.\", \"If you like adult comedy cartoons, like South Park, then this is nearly a similar format about the small adventures of three teenage girls at Bromwell High. Keisha, Natella and Latrina have given exploding sweets and behaved like bitches, I think Keisha is a good leader. There are also small stories going on with the teachers of the school. There's the idiotic principal, Mr. Bip, the nervous Maths teacher and many others. The cast is also fantastic, Lenny Henry's Gina Yashere, EastEnders Chrissie Watts, Tracy-Ann Oberman, Smack The Pony's Doon Mackichan, Dead Ringers' Mark Perry and Blunder's Nina Conti. I didn't know this came from Canada, but it is very good. Very good!\"]\n"
     ]
    }
   ],
   "source": [
    "#option 1\n",
    "import os\n",
    "\n",
    "# Define file paths\n",
    "file_paths = [\n",
    "    '/Users/oayanwale/Downloads/NLP_Exercise_24_25/Data/reviews1.txt',\n",
    "    '/Users/oayanwale/Downloads/NLP_Exercise_24_25/Data/reviews2.txt',\n",
    "    '/Users/oayanwale/Downloads/NLP_Exercise_24_25/Data/reviews3.txt'\n",
    "]\n",
    "\n",
    "reviews = []\n",
    "\n",
    "# Load reviews with appropriate encoding\n",
    "for path in file_paths:\n",
    "    try:\n",
    "        # Attempt to read as UTF-16\n",
    "        with open(path, 'r', encoding='utf-16') as file:\n",
    "            reviews.extend(file.readlines())\n",
    "    except UnicodeError:\n",
    "        # If there's an error, try reading as UTF-8 instead\n",
    "        with open(path, 'r', encoding='utf-8') as file:\n",
    "            reviews.extend(file.readlines())\n",
    "\n",
    "# Remove leading/trailing whitespace from each review\n",
    "reviews = [review.strip() for review in reviews if review.strip()]\n",
    "\n",
    "print(reviews)  # Should print a list of six reviews"
   ]
  },
  {
   "cell_type": "code",
   "execution_count": null,
   "id": "1cf813a6",
   "metadata": {},
   "outputs": [],
   "source": [
    "# Another way to load the data option 2\n"
   ]
  },
  {
   "cell_type": "code",
   "execution_count": 5,
   "id": "93ec8e80",
   "metadata": {},
   "outputs": [],
   "source": [
    "# Load and Read the Data code2 \n",
    "import glob\n",
    "import os\n",
    "# Path to your data folder\n",
    "data_folder = \"/Users/oayanwale/Downloads/NLP_Exercise_24_25/Data/\"\n",
    "\n",
    "file_paths = glob.glob(os.path.join(data_folder, \"reviews*.txt\"))\n",
    "\n",
    "    "
   ]
  },
  {
   "cell_type": "code",
   "execution_count": 6,
   "id": "3a160944",
   "metadata": {},
   "outputs": [],
   "source": [
    "# Validate the content of each file\n",
    "valid_reviews = []\n",
    "\n",
    "for path in glob.glob(os.path.join(data_folder, \"*.txt\")):\n",
    "    try:\n",
    "        with open(path, 'r', encoding='utf-8') as f:\n",
    "            lines = f.readlines()\n",
    "    except UnicodeDecodeError:\n",
    "        with open(path, 'r', encoding='utf-16') as f16:\n",
    "            lines = f16.readlines()\n",
    "    \n",
    "    # Check if content matches expected review format\n",
    "    if len(lines) > 0 and \"review\" in lines[0].lower():  # Adjust condition as needed\n",
    "        valid_reviews.extend(lines)\n",
    "\n",
    "# Process valid reviews\n",
    "reviews = [review.strip() for review in valid_reviews if review.strip()]\n"
   ]
  },
  {
   "cell_type": "code",
   "execution_count": 7,
   "id": "14eaa37d",
   "metadata": {
    "collapsed": true
   },
   "outputs": [
    {
     "name": "stdout",
     "output_type": "stream",
     "text": [
      "[\"Story of a man who has unnatural feelings for a pig. Starts out with a opening scene that is a terrific example of absurd comedy. A formal orchestra audience is turned into an insane, violent mob by the crazy chantings of it's singers. Unfortunately it stays absurd the WHOLE time with no general narrative eventually making it just too off putting. Even those from the era should be turned off. The cryptic dialogue would make Shakespeare seem easy to a third grader. On a technical level it's better than you might think with some good cinematography by future great Vilmos Zsigmond. Future stars Sally Kirkland and Frederic Forrest can be seen briefly.\", 'Bromwell High is nothing short of brilliant. Expertly scripted and perfectly delivered, this searing parody of a students and teachers at a South London Public School leaves you literally rolling with laughter. It\\'s vulgar, provocative, witty and sharp. The characters are a superbly caricatured cross section of British society (or to be more accurate, of any society). Following the escapades of Keisha, Latrina and Natella, our three \"protagonists\" for want of a better term, the show doesn\\'t shy away from parodying every imaginable subject. Political correctness flies out the window in every episode. If you enjoy shows that aren\\'t afraid to poke fun of every taboo subject imaginable, then Bromwell High will not disappoint!', \"If I had not read Pat Barker's 'Union Street' before seeing this film, I would have liked it. Unfortuntately this is not the case. It is actually my kind of film, it is well made, and in no way do I want to say otherwise, but as an adaptation, it fails from every angle.<br /><br />The harrowing novel about the reality of living in a northern England working-class area grabbed hold of my heartstrings and refused to let go for weeks after I had finished. I was put through tears, repulsion, shock, anger, sympathy and misery when reading about the women of Union Street. Excellent. A novel that at times I felt I could not read any more of, but I novel I simply couldn't put down. Depressing yes, but utterly gripping.<br /><br />The film. Oh dear. Hollywood took Barker's truth and reality, and showered a layer of sweet icing sugar over the top of it. A beautiful film, an inspiring soundtrack, excellent performances, a tale of hope and romance...yes. An adaptation of 'Union Street'...no.<br /><br />The women of Union Street and their stories are condensed into Fonda's character, their stories are touched on, but many are discarded. I accept that some of Barker's tales are sensitive issues and are too horrific for mass viewing, and that a film with around 7 leading protagonists just isn't practical, but the content is not my main issue. The essence and the real gut of the novel is lost - darkness and rain, broken windows covered with cardboard, and the graphically described stench of poverty is replaced with sunshine, pretty houses, and a twinkling William's score.<br /><br />If you enjoyed the film for its positivity and hope in the face of 'reality', I advise that you hesitate to read the book without first preparing yourself for something more like 'Schindler's List'...but without the happy ending.\", 'Bromwell High is a cartoon comedy. It ran at the same time as some other programs about school life, such as \"Teachers\". My 35 years in the teaching profession lead me to believe that Bromwell High\\'s satire is much closer to reality than is \"Teachers\". The scramble to survive financially, the insightful students who can see right through their pathetic teachers\\' pomp, the pettiness of the whole situation, all remind me of the schools I knew and their students. When I saw the episode in which a student repeatedly tried to burn down the school, I immediately recalled ......... at .......... High. A classic line: INSPECTOR: I\\'m here to sack one of your teachers. STUDENT: Welcome to Bromwell High. I expect that many adults of my age think that Bromwell High is far fetched. What a pity that it isn\\'t!', \"Robert DeNiro plays the most unbelievably intelligent illiterate of all time. This movie is so wasteful of talent, it is truly disgusting. The script is unbelievable. The dialog is unbelievable. Jane Fonda's character is a caricature of herself, and not a funny one. The movie moves at a snail's pace, is photographed in an ill-advised manner, and is insufferably preachy. It also plugs in every cliche in the book. Swoozie Kurtz is excellent in a supporting role, but so what?<br /><br />Equally annoying is this new IMDB rule of requiring ten lines for every review. When a movie is this worthless, it doesn't require ten lines of text to let other readers know that it is a waste of time and tape. Avoid this movie.\", \"If you like adult comedy cartoons, like South Park, then this is nearly a similar format about the small adventures of three teenage girls at Bromwell High. Keisha, Natella and Latrina have given exploding sweets and behaved like bitches, I think Keisha is a good leader. There are also small stories going on with the teachers of the school. There's the idiotic principal, Mr. Bip, the nervous Maths teacher and many others. The cast is also fantastic, Lenny Henry's Gina Yashere, EastEnders Chrissie Watts, Tracy-Ann Oberman, Smack The Pony's Doon Mackichan, Dead Ringers' Mark Perry and Blunder's Nina Conti. I didn't know this came from Canada, but it is very good. Very good!\"]\n"
     ]
    }
   ],
   "source": [
    "#  or you can do manual file listing if files cant automatically\n",
    "# filtered by name or content, you can manually specify the paths to the review file\n",
    "\n",
    "file_paths = [\n",
    "    os.path.join(data_folder, \"reviews1.txt\"),\n",
    "    os.path.join(data_folder, \"reviews2.txt\"),\n",
    "    os.path.join(data_folder, \"reviews3.txt\")\n",
    "]\n",
    "\n",
    "reviews = []\n",
    "for path in file_paths:\n",
    "    try:\n",
    "        with open(path, 'r', encoding='utf-8') as f:\n",
    "            reviews.extend(f.readlines())\n",
    "    except UnicodeDecodeError:\n",
    "        with open(path, 'r', encoding='utf-16') as f16:\n",
    "            reviews.extend(f16.readlines())\n",
    "\n",
    "reviews = [review.strip() for review in reviews if review.strip()]\n",
    "\n",
    "print(reviews)  # Should print a list of six reviews"
   ]
  },
  {
   "cell_type": "markdown",
   "id": "82e1a149",
   "metadata": {},
   "source": [
    "# Task 2\n",
    "# Apply elementary text handling (”preprocessing“) steps. That is, within each review • Remove punctuation, numbers and special characters\n",
    "# • Turn all letters into lower case\n",
    "# • Split the text into individual words\n",
    "# The result should be a list of lists of Strings (Python) or a list of character vectors (R). Each inner list/character vector represents a review as separated words.\n",
    "# Count how often each word occurs in this text corpus and display the 10 most common words."
   ]
  },
  {
   "cell_type": "code",
   "execution_count": 16,
   "id": "95755a78",
   "metadata": {},
   "outputs": [
    {
     "name": "stdout",
     "output_type": "stream",
     "text": [
      "processed Reviews:\n",
      "['story', 'of', 'a', 'man', 'who', 'has', 'unnatural', 'feelings', 'for', 'a', 'pig', 'starts', 'out', 'with', 'a', 'opening', 'scene', 'that', 'is', 'a', 'terrific', 'example', 'of', 'absurd', 'comedy', 'a', 'formal', 'orchestra', 'audience', 'is', 'turned', 'into', 'an', 'insane', 'violent', 'mob', 'by', 'the', 'crazy', 'chantings', 'of', 'its', 'singers', 'unfortunately', 'it', 'stays', 'absurd', 'the', 'whole', 'time', 'with', 'no', 'general', 'narrative', 'eventually', 'making', 'it', 'just', 'too', 'off', 'putting', 'even', 'those', 'from', 'the', 'era', 'should', 'be', 'turned', 'off', 'the', 'cryptic', 'dialogue', 'would', 'make', 'shakespeare', 'seem', 'easy', 'to', 'a', 'third', 'grader', 'on', 'a', 'technical', 'level', 'its', 'better', 'than', 'you', 'might', 'think', 'with', 'some', 'good', 'cinematography', 'by', 'future', 'great', 'vilmos', 'zsigmond', 'future', 'stars', 'sally', 'kirkland', 'and', 'frederic', 'forrest', 'can', 'be', 'seen', 'briefly']\n",
      "['bromwell', 'high', 'is', 'nothing', 'short', 'of', 'brilliant', 'expertly', 'scripted', 'and', 'perfectly', 'delivered', 'this', 'searing', 'parody', 'of', 'a', 'students', 'and', 'teachers', 'at', 'a', 'south', 'london', 'public', 'school', 'leaves', 'you', 'literally', 'rolling', 'with', 'laughter', 'its', 'vulgar', 'provocative', 'witty', 'and', 'sharp', 'the', 'characters', 'are', 'a', 'superbly', 'caricatured', 'cross', 'section', 'of', 'british', 'society', 'or', 'to', 'be', 'more', 'accurate', 'of', 'any', 'society', 'following', 'the', 'escapades', 'of', 'keisha', 'latrina', 'and', 'natella', 'our', 'three', 'protagonists', 'for', 'want', 'of', 'a', 'better', 'term', 'the', 'show', 'doesnt', 'shy', 'away', 'from', 'parodying', 'every', 'imaginable', 'subject', 'political', 'correctness', 'flies', 'out', 'the', 'window', 'in', 'every', 'episode', 'if', 'you', 'enjoy', 'shows', 'that', 'arent', 'afraid', 'to', 'poke', 'fun', 'of', 'every', 'taboo', 'subject', 'imaginable', 'then', 'bromwell', 'high', 'will', 'not', 'disappoint']\n",
      "['if', 'i', 'had', 'not', 'read', 'pat', 'barkers', 'union', 'street', 'before', 'seeing', 'this', 'film', 'i', 'would', 'have', 'liked', 'it', 'unfortuntately', 'this', 'is', 'not', 'the', 'case', 'it', 'is', 'actually', 'my', 'kind', 'of', 'film', 'it', 'is', 'well', 'made', 'and', 'in', 'no', 'way', 'do', 'i', 'want', 'to', 'say', 'otherwise', 'but', 'as', 'an', 'adaptation', 'it', 'fails', 'from', 'every', 'anglebr', 'br', 'the', 'harrowing', 'novel', 'about', 'the', 'reality', 'of', 'living', 'in', 'a', 'northern', 'england', 'workingclass', 'area', 'grabbed', 'hold', 'of', 'my', 'heartstrings', 'and', 'refused', 'to', 'let', 'go', 'for', 'weeks', 'after', 'i', 'had', 'finished', 'i', 'was', 'put', 'through', 'tears', 'repulsion', 'shock', 'anger', 'sympathy', 'and', 'misery', 'when', 'reading', 'about', 'the', 'women', 'of', 'union', 'street', 'excellent', 'a', 'novel', 'that', 'at', 'times', 'i', 'felt', 'i', 'could', 'not', 'read', 'any', 'more', 'of', 'but', 'i', 'novel', 'i', 'simply', 'couldnt', 'put', 'down', 'depressing', 'yes', 'but', 'utterly', 'grippingbr', 'br', 'the', 'film', 'oh', 'dear', 'hollywood', 'took', 'barkers', 'truth', 'and', 'reality', 'and', 'showered', 'a', 'layer', 'of', 'sweet', 'icing', 'sugar', 'over', 'the', 'top', 'of', 'it', 'a', 'beautiful', 'film', 'an', 'inspiring', 'soundtrack', 'excellent', 'performances', 'a', 'tale', 'of', 'hope', 'and', 'romanceyes', 'an', 'adaptation', 'of', 'union', 'streetnobr', 'br', 'the', 'women', 'of', 'union', 'street', 'and', 'their', 'stories', 'are', 'condensed', 'into', 'fondas', 'character', 'their', 'stories', 'are', 'touched', 'on', 'but', 'many', 'are', 'discarded', 'i', 'accept', 'that', 'some', 'of', 'barkers', 'tales', 'are', 'sensitive', 'issues', 'and', 'are', 'too', 'horrific', 'for', 'mass', 'viewing', 'and', 'that', 'a', 'film', 'with', 'around', 'leading', 'protagonists', 'just', 'isnt', 'practical', 'but', 'the', 'content', 'is', 'not', 'my', 'main', 'issue', 'the', 'essence', 'and', 'the', 'real', 'gut', 'of', 'the', 'novel', 'is', 'lost', 'darkness', 'and', 'rain', 'broken', 'windows', 'covered', 'with', 'cardboard', 'and', 'the', 'graphically', 'described', 'stench', 'of', 'poverty', 'is', 'replaced', 'with', 'sunshine', 'pretty', 'houses', 'and', 'a', 'twinkling', 'williams', 'scorebr', 'br', 'if', 'you', 'enjoyed', 'the', 'film', 'for', 'its', 'positivity', 'and', 'hope', 'in', 'the', 'face', 'of', 'reality', 'i', 'advise', 'that', 'you', 'hesitate', 'to', 'read', 'the', 'book', 'without', 'first', 'preparing', 'yourself', 'for', 'something', 'more', 'like', 'schindlers', 'listbut', 'without', 'the', 'happy', 'ending']\n",
      "['bromwell', 'high', 'is', 'a', 'cartoon', 'comedy', 'it', 'ran', 'at', 'the', 'same', 'time', 'as', 'some', 'other', 'programs', 'about', 'school', 'life', 'such', 'as', 'teachers', 'my', 'years', 'in', 'the', 'teaching', 'profession', 'lead', 'me', 'to', 'believe', 'that', 'bromwell', 'highs', 'satire', 'is', 'much', 'closer', 'to', 'reality', 'than', 'is', 'teachers', 'the', 'scramble', 'to', 'survive', 'financially', 'the', 'insightful', 'students', 'who', 'can', 'see', 'right', 'through', 'their', 'pathetic', 'teachers', 'pomp', 'the', 'pettiness', 'of', 'the', 'whole', 'situation', 'all', 'remind', 'me', 'of', 'the', 'schools', 'i', 'knew', 'and', 'their', 'students', 'when', 'i', 'saw', 'the', 'episode', 'in', 'which', 'a', 'student', 'repeatedly', 'tried', 'to', 'burn', 'down', 'the', 'school', 'i', 'immediately', 'recalled', 'at', 'high', 'a', 'classic', 'line', 'inspector', 'im', 'here', 'to', 'sack', 'one', 'of', 'your', 'teachers', 'student', 'welcome', 'to', 'bromwell', 'high', 'i', 'expect', 'that', 'many', 'adults', 'of', 'my', 'age', 'think', 'that', 'bromwell', 'high', 'is', 'far', 'fetched', 'what', 'a', 'pity', 'that', 'it', 'isnt']\n",
      "['robert', 'deniro', 'plays', 'the', 'most', 'unbelievably', 'intelligent', 'illiterate', 'of', 'all', 'time', 'this', 'movie', 'is', 'so', 'wasteful', 'of', 'talent', 'it', 'is', 'truly', 'disgusting', 'the', 'script', 'is', 'unbelievable', 'the', 'dialog', 'is', 'unbelievable', 'jane', 'fondas', 'character', 'is', 'a', 'caricature', 'of', 'herself', 'and', 'not', 'a', 'funny', 'one', 'the', 'movie', 'moves', 'at', 'a', 'snails', 'pace', 'is', 'photographed', 'in', 'an', 'illadvised', 'manner', 'and', 'is', 'insufferably', 'preachy', 'it', 'also', 'plugs', 'in', 'every', 'cliche', 'in', 'the', 'book', 'swoozie', 'kurtz', 'is', 'excellent', 'in', 'a', 'supporting', 'role', 'but', 'so', 'whatbr', 'br', 'equally', 'annoying', 'is', 'this', 'new', 'imdb', 'rule', 'of', 'requiring', 'ten', 'lines', 'for', 'every', 'review', 'when', 'a', 'movie', 'is', 'this', 'worthless', 'it', 'doesnt', 'require', 'ten', 'lines', 'of', 'text', 'to', 'let', 'other', 'readers', 'know', 'that', 'it', 'is', 'a', 'waste', 'of', 'time', 'and', 'tape', 'avoid', 'this', 'movie']\n",
      "['if', 'you', 'like', 'adult', 'comedy', 'cartoons', 'like', 'south', 'park', 'then', 'this', 'is', 'nearly', 'a', 'similar', 'format', 'about', 'the', 'small', 'adventures', 'of', 'three', 'teenage', 'girls', 'at', 'bromwell', 'high', 'keisha', 'natella', 'and', 'latrina', 'have', 'given', 'exploding', 'sweets', 'and', 'behaved', 'like', 'bitches', 'i', 'think', 'keisha', 'is', 'a', 'good', 'leader', 'there', 'are', 'also', 'small', 'stories', 'going', 'on', 'with', 'the', 'teachers', 'of', 'the', 'school', 'theres', 'the', 'idiotic', 'principal', 'mr', 'bip', 'the', 'nervous', 'maths', 'teacher', 'and', 'many', 'others', 'the', 'cast', 'is', 'also', 'fantastic', 'lenny', 'henrys', 'gina', 'yashere', 'eastenders', 'chrissie', 'watts', 'tracyann', 'oberman', 'smack', 'the', 'ponys', 'doon', 'mackichan', 'dead', 'ringers', 'mark', 'perry', 'and', 'blunders', 'nina', 'conti', 'i', 'didnt', 'know', 'this', 'came', 'from', 'canada', 'but', 'it', 'is', 'very', 'good', 'very', 'good']\n",
      "Most common words: [('the', 45), ('of', 36), ('a', 30), ('is', 28), ('and', 27), ('i', 17), ('it', 14), ('to', 13), ('that', 11), ('in', 10)]\n"
     ]
    }
   ],
   "source": [
    "#Task 2: Preprocessing Text Next, we'll preprocess the text by removing punctuation, numbers, and special characters. \n",
    "#We'll also convert everything to lowercase and split into individual words.\n",
    "#option 1\n",
    "\n",
    "import re\n",
    "from collections import Counter\n",
    "\n",
    "def preprocess_reviews(reviews):\n",
    "    processed_reviews = []\n",
    "    \n",
    "    for review in reviews:\n",
    "        # Remove punctuation, numbers and special characters\n",
    "        cleaned_review = re.sub(r'[^a-zA-Z\\s]', '', review)\n",
    "        # Convert to lower case and split into words\n",
    "        words = cleaned_review.lower().split()\n",
    "        processed_reviews.append(words)\n",
    "    \n",
    "    return processed_reviews\n",
    "\n",
    "processed_reviews = preprocess_reviews(reviews)\n",
    "# Print the processed reviews\n",
    "print(\"processed Reviews:\")\n",
    "for review in processed_reviews:\n",
    "    print(review)\n",
    "\n",
    "\n",
    "# Count word occurrences across all reviews\n",
    "word_counts = Counter(word for review in processed_reviews for word in review)\n",
    "\n",
    "# Get the 10 most common words\n",
    "most_common_words = word_counts.most_common(10)\n",
    "print(\"Most common words:\", most_common_words)"
   ]
  },
  {
   "cell_type": "code",
   "execution_count": 17,
   "id": "2144f7f5",
   "metadata": {},
   "outputs": [
    {
     "name": "stdout",
     "output_type": "stream",
     "text": [
      "Preprocessed Reviews:\n",
      "['story', 'of', 'a', 'man', 'who', 'has', 'unnatural', 'feelings', 'for', 'a', 'pig', 'starts', 'out', 'with', 'a', 'opening', 'scene', 'that', 'is', 'a', 'terrific', 'example', 'of', 'absurd', 'comedy', 'a', 'formal', 'orchestra', 'audience', 'is', 'turned', 'into', 'an', 'insane', 'violent', 'mob', 'by', 'the', 'crazy', 'chantings', 'of', 'its', 'singers', 'unfortunately', 'it', 'stays', 'absurd', 'the', 'whole', 'time', 'with', 'no', 'general', 'narrative', 'eventually', 'making', 'it', 'just', 'too', 'off', 'putting', 'even', 'those', 'from', 'the', 'era', 'should', 'be', 'turned', 'off', 'the', 'cryptic', 'dialogue', 'would', 'make', 'shakespeare', 'seem', 'easy', 'to', 'a', 'third', 'grader', 'on', 'a', 'technical', 'level', 'its', 'better', 'than', 'you', 'might', 'think', 'with', 'some', 'good', 'cinematography', 'by', 'future', 'great', 'vilmos', 'zsigmond', 'future', 'stars', 'sally', 'kirkland', 'and', 'frederic', 'forrest', 'can', 'be', 'seen', 'briefly']\n",
      "['bromwell', 'high', 'is', 'nothing', 'short', 'of', 'brilliant', 'expertly', 'scripted', 'and', 'perfectly', 'delivered', 'this', 'searing', 'parody', 'of', 'a', 'students', 'and', 'teachers', 'at', 'a', 'south', 'london', 'public', 'school', 'leaves', 'you', 'literally', 'rolling', 'with', 'laughter', 'its', 'vulgar', 'provocative', 'witty', 'and', 'sharp', 'the', 'characters', 'are', 'a', 'superbly', 'caricatured', 'cross', 'section', 'of', 'british', 'society', 'or', 'to', 'be', 'more', 'accurate', 'of', 'any', 'society', 'following', 'the', 'escapades', 'of', 'keisha', 'latrina', 'and', 'natella', 'our', 'three', 'protagonists', 'for', 'want', 'of', 'a', 'better', 'term', 'the', 'show', 'doesnt', 'shy', 'away', 'from', 'parodying', 'every', 'imaginable', 'subject', 'political', 'correctness', 'flies', 'out', 'the', 'window', 'in', 'every', 'episode', 'if', 'you', 'enjoy', 'shows', 'that', 'arent', 'afraid', 'to', 'poke', 'fun', 'of', 'every', 'taboo', 'subject', 'imaginable', 'then', 'bromwell', 'high', 'will', 'not', 'disappoint']\n",
      "['if', 'i', 'had', 'not', 'read', 'pat', 'barkers', 'union', 'street', 'before', 'seeing', 'this', 'film', 'i', 'would', 'have', 'liked', 'it', 'unfortuntately', 'this', 'is', 'not', 'the', 'case', 'it', 'is', 'actually', 'my', 'kind', 'of', 'film', 'it', 'is', 'well', 'made', 'and', 'in', 'no', 'way', 'do', 'i', 'want', 'to', 'say', 'otherwise', 'but', 'as', 'an', 'adaptation', 'it', 'fails', 'from', 'every', 'anglebr', 'br', 'the', 'harrowing', 'novel', 'about', 'the', 'reality', 'of', 'living', 'in', 'a', 'northern', 'england', 'workingclass', 'area', 'grabbed', 'hold', 'of', 'my', 'heartstrings', 'and', 'refused', 'to', 'let', 'go', 'for', 'weeks', 'after', 'i', 'had', 'finished', 'i', 'was', 'put', 'through', 'tears', 'repulsion', 'shock', 'anger', 'sympathy', 'and', 'misery', 'when', 'reading', 'about', 'the', 'women', 'of', 'union', 'street', 'excellent', 'a', 'novel', 'that', 'at', 'times', 'i', 'felt', 'i', 'could', 'not', 'read', 'any', 'more', 'of', 'but', 'i', 'novel', 'i', 'simply', 'couldnt', 'put', 'down', 'depressing', 'yes', 'but', 'utterly', 'grippingbr', 'br', 'the', 'film', 'oh', 'dear', 'hollywood', 'took', 'barkers', 'truth', 'and', 'reality', 'and', 'showered', 'a', 'layer', 'of', 'sweet', 'icing', 'sugar', 'over', 'the', 'top', 'of', 'it', 'a', 'beautiful', 'film', 'an', 'inspiring', 'soundtrack', 'excellent', 'performances', 'a', 'tale', 'of', 'hope', 'and', 'romanceyes', 'an', 'adaptation', 'of', 'union', 'streetnobr', 'br', 'the', 'women', 'of', 'union', 'street', 'and', 'their', 'stories', 'are', 'condensed', 'into', 'fondas', 'character', 'their', 'stories', 'are', 'touched', 'on', 'but', 'many', 'are', 'discarded', 'i', 'accept', 'that', 'some', 'of', 'barkers', 'tales', 'are', 'sensitive', 'issues', 'and', 'are', 'too', 'horrific', 'for', 'mass', 'viewing', 'and', 'that', 'a', 'film', 'with', 'around', 'leading', 'protagonists', 'just', 'isnt', 'practical', 'but', 'the', 'content', 'is', 'not', 'my', 'main', 'issue', 'the', 'essence', 'and', 'the', 'real', 'gut', 'of', 'the', 'novel', 'is', 'lost', 'darkness', 'and', 'rain', 'broken', 'windows', 'covered', 'with', 'cardboard', 'and', 'the', 'graphically', 'described', 'stench', 'of', 'poverty', 'is', 'replaced', 'with', 'sunshine', 'pretty', 'houses', 'and', 'a', 'twinkling', 'williams', 'scorebr', 'br', 'if', 'you', 'enjoyed', 'the', 'film', 'for', 'its', 'positivity', 'and', 'hope', 'in', 'the', 'face', 'of', 'reality', 'i', 'advise', 'that', 'you', 'hesitate', 'to', 'read', 'the', 'book', 'without', 'first', 'preparing', 'yourself', 'for', 'something', 'more', 'like', 'schindlers', 'listbut', 'without', 'the', 'happy', 'ending']\n",
      "['bromwell', 'high', 'is', 'a', 'cartoon', 'comedy', 'it', 'ran', 'at', 'the', 'same', 'time', 'as', 'some', 'other', 'programs', 'about', 'school', 'life', 'such', 'as', 'teachers', 'my', 'years', 'in', 'the', 'teaching', 'profession', 'lead', 'me', 'to', 'believe', 'that', 'bromwell', 'highs', 'satire', 'is', 'much', 'closer', 'to', 'reality', 'than', 'is', 'teachers', 'the', 'scramble', 'to', 'survive', 'financially', 'the', 'insightful', 'students', 'who', 'can', 'see', 'right', 'through', 'their', 'pathetic', 'teachers', 'pomp', 'the', 'pettiness', 'of', 'the', 'whole', 'situation', 'all', 'remind', 'me', 'of', 'the', 'schools', 'i', 'knew', 'and', 'their', 'students', 'when', 'i', 'saw', 'the', 'episode', 'in', 'which', 'a', 'student', 'repeatedly', 'tried', 'to', 'burn', 'down', 'the', 'school', 'i', 'immediately', 'recalled', 'at', 'high', 'a', 'classic', 'line', 'inspector', 'im', 'here', 'to', 'sack', 'one', 'of', 'your', 'teachers', 'student', 'welcome', 'to', 'bromwell', 'high', 'i', 'expect', 'that', 'many', 'adults', 'of', 'my', 'age', 'think', 'that', 'bromwell', 'high', 'is', 'far', 'fetched', 'what', 'a', 'pity', 'that', 'it', 'isnt']\n",
      "['robert', 'deniro', 'plays', 'the', 'most', 'unbelievably', 'intelligent', 'illiterate', 'of', 'all', 'time', 'this', 'movie', 'is', 'so', 'wasteful', 'of', 'talent', 'it', 'is', 'truly', 'disgusting', 'the', 'script', 'is', 'unbelievable', 'the', 'dialog', 'is', 'unbelievable', 'jane', 'fondas', 'character', 'is', 'a', 'caricature', 'of', 'herself', 'and', 'not', 'a', 'funny', 'one', 'the', 'movie', 'moves', 'at', 'a', 'snails', 'pace', 'is', 'photographed', 'in', 'an', 'illadvised', 'manner', 'and', 'is', 'insufferably', 'preachy', 'it', 'also', 'plugs', 'in', 'every', 'cliche', 'in', 'the', 'book', 'swoozie', 'kurtz', 'is', 'excellent', 'in', 'a', 'supporting', 'role', 'but', 'so', 'whatbr', 'br', 'equally', 'annoying', 'is', 'this', 'new', 'imdb', 'rule', 'of', 'requiring', 'ten', 'lines', 'for', 'every', 'review', 'when', 'a', 'movie', 'is', 'this', 'worthless', 'it', 'doesnt', 'require', 'ten', 'lines', 'of', 'text', 'to', 'let', 'other', 'readers', 'know', 'that', 'it', 'is', 'a', 'waste', 'of', 'time', 'and', 'tape', 'avoid', 'this', 'movie']\n",
      "['if', 'you', 'like', 'adult', 'comedy', 'cartoons', 'like', 'south', 'park', 'then', 'this', 'is', 'nearly', 'a', 'similar', 'format', 'about', 'the', 'small', 'adventures', 'of', 'three', 'teenage', 'girls', 'at', 'bromwell', 'high', 'keisha', 'natella', 'and', 'latrina', 'have', 'given', 'exploding', 'sweets', 'and', 'behaved', 'like', 'bitches', 'i', 'think', 'keisha', 'is', 'a', 'good', 'leader', 'there', 'are', 'also', 'small', 'stories', 'going', 'on', 'with', 'the', 'teachers', 'of', 'the', 'school', 'theres', 'the', 'idiotic', 'principal', 'mr', 'bip', 'the', 'nervous', 'maths', 'teacher', 'and', 'many', 'others', 'the', 'cast', 'is', 'also', 'fantastic', 'lenny', 'henrys', 'gina', 'yashere', 'eastenders', 'chrissie', 'watts', 'tracyann', 'oberman', 'smack', 'the', 'ponys', 'doon', 'mackichan', 'dead', 'ringers', 'mark', 'perry', 'and', 'blunders', 'nina', 'conti', 'i', 'didnt', 'know', 'this', 'came', 'from', 'canada', 'but', 'it', 'is', 'very', 'good', 'very', 'good']\n",
      "Most common words: [('the', 45), ('of', 36), ('a', 30), ('is', 28), ('and', 27), ('i', 17), ('it', 14), ('to', 13), ('that', 11), ('in', 10)]\n"
     ]
    }
   ],
   "source": [
    "# Alternative preprocess \n",
    "# Task 2: Text Preprocessing\n",
    "# option 2\n",
    "\n",
    "def preprocess_text(text):\n",
    "    text = re.sub(r'[^a-zA-Z\\s]', '', text)  # Remove punctuation, numbers, special characters\n",
    "    text = text.lower()  # Convert to lowercase\n",
    "    words = text.split()  # Split into words\n",
    "    return words\n",
    "\n",
    "preprocessed_reviews = [preprocess_text(review) for review in reviews]\n",
    "\n",
    "# Print the preprocessed reviews\n",
    "print(\"Preprocessed Reviews:\")\n",
    "for review in preprocessed_reviews:\n",
    "    print(review)\n",
    "\n",
    "\n",
    "\n",
    "\n",
    "# Count word frequencies\n",
    "all_words = [word for review in preprocessed_reviews for word in review]\n",
    "word_counts = Counter(all_words)\n",
    "most_common_words = word_counts.most_common(10)\n",
    "\n",
    "print(\"Most common words:\", most_common_words)\n"
   ]
  },
  {
   "cell_type": "markdown",
   "id": "483d3364",
   "metadata": {},
   "source": [
    "# Task 3\n",
    "# Use each one automated word stemming- and lemmatization method for your programming language. Apply them to the corpus resulting from task 2 and compare the resulting texts when applying each. Which of the two approaches would you prefer?\n"
   ]
  },
  {
   "cell_type": "code",
   "execution_count": null,
   "id": "25cb8133",
   "metadata": {},
   "outputs": [],
   "source": [
    "#Task 3: Stemming and Lemmatization \n",
    "# For this task, we need to install NLTK if you haven't already:"
   ]
  },
  {
   "cell_type": "code",
   "execution_count": 10,
   "id": "bbce8557",
   "metadata": {
    "collapsed": true
   },
   "outputs": [
    {
     "name": "stdout",
     "output_type": "stream",
     "text": [
      "Defaulting to user installation because normal site-packages is not writeable\n",
      "Requirement already satisfied: nltk in /Users/oayanwale/Library/Python/3.9/lib/python/site-packages (3.8.1)\n",
      "Requirement already satisfied: click in /Users/oayanwale/Library/Python/3.9/lib/python/site-packages (from nltk) (8.1.7)\n",
      "Requirement already satisfied: joblib in /Users/oayanwale/Library/Python/3.9/lib/python/site-packages (from nltk) (1.3.2)\n",
      "Requirement already satisfied: regex>=2021.8.3 in /Users/oayanwale/Library/Python/3.9/lib/python/site-packages (from nltk) (2023.10.3)\n",
      "Requirement already satisfied: tqdm in /Users/oayanwale/Library/Python/3.9/lib/python/site-packages (from nltk) (4.66.1)\n",
      "Note: you may need to restart the kernel to use updated packages.\n"
     ]
    }
   ],
   "source": [
    "pip install nltk"
   ]
  },
  {
   "cell_type": "code",
   "execution_count": 11,
   "id": "70e8c7c5",
   "metadata": {
    "collapsed": true
   },
   "outputs": [
    {
     "name": "stdout",
     "output_type": "stream",
     "text": [
      "Defaulting to user installation because normal site-packages is not writeable\n",
      "Requirement already satisfied: pip in /Users/oayanwale/Library/Python/3.9/lib/python/site-packages (25.0)\n",
      "Note: you may need to restart the kernel to use updated packages.\n"
     ]
    }
   ],
   "source": [
    "pip install --upgrade pip"
   ]
  },
  {
   "cell_type": "code",
   "execution_count": 12,
   "id": "477cdec8",
   "metadata": {
    "collapsed": true
   },
   "outputs": [
    {
     "name": "stderr",
     "output_type": "stream",
     "text": [
      "[nltk_data] Downloading package punkt to /Users/oayanwale/nltk_data...\n",
      "[nltk_data]   Package punkt is already up-to-date!\n",
      "[nltk_data] Downloading package wordnet to\n",
      "[nltk_data]     /Users/oayanwale/nltk_data...\n",
      "[nltk_data]   Package wordnet is already up-to-date!\n"
     ]
    },
    {
     "name": "stdout",
     "output_type": "stream",
     "text": [
      "Stemmed Results: [['stori', 'of', 'a', 'man', 'who', 'ha', 'unnatur', 'feel', 'for', 'a', 'pig', 'start', 'out', 'with', 'a', 'open', 'scene', 'that', 'is', 'a', 'terrif', 'exampl', 'of', 'absurd', 'comedi', 'a', 'formal', 'orchestra', 'audienc', 'is', 'turn', 'into', 'an', 'insan', 'violent', 'mob', 'by', 'the', 'crazi', 'chant', 'of', 'it', 'singer', 'unfortun', 'it', 'stay', 'absurd', 'the', 'whole', 'time', 'with', 'no', 'gener', 'narr', 'eventu', 'make', 'it', 'just', 'too', 'off', 'put', 'even', 'those', 'from', 'the', 'era', 'should', 'be', 'turn', 'off', 'the', 'cryptic', 'dialogu', 'would', 'make', 'shakespear', 'seem', 'easi', 'to', 'a', 'third', 'grader', 'on', 'a', 'technic', 'level', 'it', 'better', 'than', 'you', 'might', 'think', 'with', 'some', 'good', 'cinematographi', 'by', 'futur', 'great', 'vilmo', 'zsigmond', 'futur', 'star', 'salli', 'kirkland', 'and', 'freder', 'forrest', 'can', 'be', 'seen', 'briefli'], ['bromwel', 'high', 'is', 'noth', 'short', 'of', 'brilliant', 'expertli', 'script', 'and', 'perfectli', 'deliv', 'thi', 'sear', 'parodi', 'of', 'a', 'student', 'and', 'teacher', 'at', 'a', 'south', 'london', 'public', 'school', 'leav', 'you', 'liter', 'roll', 'with', 'laughter', 'it', 'vulgar', 'provoc', 'witti', 'and', 'sharp', 'the', 'charact', 'are', 'a', 'superbl', 'caricatur', 'cross', 'section', 'of', 'british', 'societi', 'or', 'to', 'be', 'more', 'accur', 'of', 'ani', 'societi', 'follow', 'the', 'escapad', 'of', 'keisha', 'latrina', 'and', 'natella', 'our', 'three', 'protagonist', 'for', 'want', 'of', 'a', 'better', 'term', 'the', 'show', 'doesnt', 'shi', 'away', 'from', 'parodi', 'everi', 'imagin', 'subject', 'polit', 'correct', 'fli', 'out', 'the', 'window', 'in', 'everi', 'episod', 'if', 'you', 'enjoy', 'show', 'that', 'arent', 'afraid', 'to', 'poke', 'fun', 'of', 'everi', 'taboo', 'subject', 'imagin', 'then', 'bromwel', 'high', 'will', 'not', 'disappoint'], ['if', 'i', 'had', 'not', 'read', 'pat', 'barker', 'union', 'street', 'befor', 'see', 'thi', 'film', 'i', 'would', 'have', 'like', 'it', 'unfortunt', 'thi', 'is', 'not', 'the', 'case', 'it', 'is', 'actual', 'my', 'kind', 'of', 'film', 'it', 'is', 'well', 'made', 'and', 'in', 'no', 'way', 'do', 'i', 'want', 'to', 'say', 'otherwis', 'but', 'as', 'an', 'adapt', 'it', 'fail', 'from', 'everi', 'anglebr', 'br', 'the', 'harrow', 'novel', 'about', 'the', 'realiti', 'of', 'live', 'in', 'a', 'northern', 'england', 'workingclass', 'area', 'grab', 'hold', 'of', 'my', 'heartstr', 'and', 'refus', 'to', 'let', 'go', 'for', 'week', 'after', 'i', 'had', 'finish', 'i', 'wa', 'put', 'through', 'tear', 'repuls', 'shock', 'anger', 'sympathi', 'and', 'miseri', 'when', 'read', 'about', 'the', 'women', 'of', 'union', 'street', 'excel', 'a', 'novel', 'that', 'at', 'time', 'i', 'felt', 'i', 'could', 'not', 'read', 'ani', 'more', 'of', 'but', 'i', 'novel', 'i', 'simpli', 'couldnt', 'put', 'down', 'depress', 'ye', 'but', 'utterli', 'grippingbr', 'br', 'the', 'film', 'oh', 'dear', 'hollywood', 'took', 'barker', 'truth', 'and', 'realiti', 'and', 'shower', 'a', 'layer', 'of', 'sweet', 'ice', 'sugar', 'over', 'the', 'top', 'of', 'it', 'a', 'beauti', 'film', 'an', 'inspir', 'soundtrack', 'excel', 'perform', 'a', 'tale', 'of', 'hope', 'and', 'romancey', 'an', 'adapt', 'of', 'union', 'streetnobr', 'br', 'the', 'women', 'of', 'union', 'street', 'and', 'their', 'stori', 'are', 'condens', 'into', 'fonda', 'charact', 'their', 'stori', 'are', 'touch', 'on', 'but', 'mani', 'are', 'discard', 'i', 'accept', 'that', 'some', 'of', 'barker', 'tale', 'are', 'sensit', 'issu', 'and', 'are', 'too', 'horrif', 'for', 'mass', 'view', 'and', 'that', 'a', 'film', 'with', 'around', 'lead', 'protagonist', 'just', 'isnt', 'practic', 'but', 'the', 'content', 'is', 'not', 'my', 'main', 'issu', 'the', 'essenc', 'and', 'the', 'real', 'gut', 'of', 'the', 'novel', 'is', 'lost', 'dark', 'and', 'rain', 'broken', 'window', 'cover', 'with', 'cardboard', 'and', 'the', 'graphic', 'describ', 'stench', 'of', 'poverti', 'is', 'replac', 'with', 'sunshin', 'pretti', 'hous', 'and', 'a', 'twinkl', 'william', 'scorebr', 'br', 'if', 'you', 'enjoy', 'the', 'film', 'for', 'it', 'posit', 'and', 'hope', 'in', 'the', 'face', 'of', 'realiti', 'i', 'advis', 'that', 'you', 'hesit', 'to', 'read', 'the', 'book', 'without', 'first', 'prepar', 'yourself', 'for', 'someth', 'more', 'like', 'schindler', 'listbut', 'without', 'the', 'happi', 'end'], ['bromwel', 'high', 'is', 'a', 'cartoon', 'comedi', 'it', 'ran', 'at', 'the', 'same', 'time', 'as', 'some', 'other', 'program', 'about', 'school', 'life', 'such', 'as', 'teacher', 'my', 'year', 'in', 'the', 'teach', 'profess', 'lead', 'me', 'to', 'believ', 'that', 'bromwel', 'high', 'satir', 'is', 'much', 'closer', 'to', 'realiti', 'than', 'is', 'teacher', 'the', 'scrambl', 'to', 'surviv', 'financi', 'the', 'insight', 'student', 'who', 'can', 'see', 'right', 'through', 'their', 'pathet', 'teacher', 'pomp', 'the', 'petti', 'of', 'the', 'whole', 'situat', 'all', 'remind', 'me', 'of', 'the', 'school', 'i', 'knew', 'and', 'their', 'student', 'when', 'i', 'saw', 'the', 'episod', 'in', 'which', 'a', 'student', 'repeatedli', 'tri', 'to', 'burn', 'down', 'the', 'school', 'i', 'immedi', 'recal', 'at', 'high', 'a', 'classic', 'line', 'inspector', 'im', 'here', 'to', 'sack', 'one', 'of', 'your', 'teacher', 'student', 'welcom', 'to', 'bromwel', 'high', 'i', 'expect', 'that', 'mani', 'adult', 'of', 'my', 'age', 'think', 'that', 'bromwel', 'high', 'is', 'far', 'fetch', 'what', 'a', 'piti', 'that', 'it', 'isnt'], ['robert', 'deniro', 'play', 'the', 'most', 'unbeliev', 'intellig', 'illiter', 'of', 'all', 'time', 'thi', 'movi', 'is', 'so', 'wast', 'of', 'talent', 'it', 'is', 'truli', 'disgust', 'the', 'script', 'is', 'unbeliev', 'the', 'dialog', 'is', 'unbeliev', 'jane', 'fonda', 'charact', 'is', 'a', 'caricatur', 'of', 'herself', 'and', 'not', 'a', 'funni', 'one', 'the', 'movi', 'move', 'at', 'a', 'snail', 'pace', 'is', 'photograph', 'in', 'an', 'illadvis', 'manner', 'and', 'is', 'insuffer', 'preachi', 'it', 'also', 'plug', 'in', 'everi', 'clich', 'in', 'the', 'book', 'swoozi', 'kurtz', 'is', 'excel', 'in', 'a', 'support', 'role', 'but', 'so', 'whatbr', 'br', 'equal', 'annoy', 'is', 'thi', 'new', 'imdb', 'rule', 'of', 'requir', 'ten', 'line', 'for', 'everi', 'review', 'when', 'a', 'movi', 'is', 'thi', 'worthless', 'it', 'doesnt', 'requir', 'ten', 'line', 'of', 'text', 'to', 'let', 'other', 'reader', 'know', 'that', 'it', 'is', 'a', 'wast', 'of', 'time', 'and', 'tape', 'avoid', 'thi', 'movi'], ['if', 'you', 'like', 'adult', 'comedi', 'cartoon', 'like', 'south', 'park', 'then', 'thi', 'is', 'nearli', 'a', 'similar', 'format', 'about', 'the', 'small', 'adventur', 'of', 'three', 'teenag', 'girl', 'at', 'bromwel', 'high', 'keisha', 'natella', 'and', 'latrina', 'have', 'given', 'explod', 'sweet', 'and', 'behav', 'like', 'bitch', 'i', 'think', 'keisha', 'is', 'a', 'good', 'leader', 'there', 'are', 'also', 'small', 'stori', 'go', 'on', 'with', 'the', 'teacher', 'of', 'the', 'school', 'there', 'the', 'idiot', 'princip', 'mr', 'bip', 'the', 'nervou', 'math', 'teacher', 'and', 'mani', 'other', 'the', 'cast', 'is', 'also', 'fantast', 'lenni', 'henri', 'gina', 'yasher', 'eastend', 'chrissi', 'watt', 'tracyann', 'oberman', 'smack', 'the', 'poni', 'doon', 'mackichan', 'dead', 'ringer', 'mark', 'perri', 'and', 'blunder', 'nina', 'conti', 'i', 'didnt', 'know', 'thi', 'came', 'from', 'canada', 'but', 'it', 'is', 'veri', 'good', 'veri', 'good']]\n",
      "Lemmatized Results: [['story', 'of', 'a', 'man', 'who', 'ha', 'unnatural', 'feeling', 'for', 'a', 'pig', 'start', 'out', 'with', 'a', 'opening', 'scene', 'that', 'is', 'a', 'terrific', 'example', 'of', 'absurd', 'comedy', 'a', 'formal', 'orchestra', 'audience', 'is', 'turned', 'into', 'an', 'insane', 'violent', 'mob', 'by', 'the', 'crazy', 'chanting', 'of', 'it', 'singer', 'unfortunately', 'it', 'stay', 'absurd', 'the', 'whole', 'time', 'with', 'no', 'general', 'narrative', 'eventually', 'making', 'it', 'just', 'too', 'off', 'putting', 'even', 'those', 'from', 'the', 'era', 'should', 'be', 'turned', 'off', 'the', 'cryptic', 'dialogue', 'would', 'make', 'shakespeare', 'seem', 'easy', 'to', 'a', 'third', 'grader', 'on', 'a', 'technical', 'level', 'it', 'better', 'than', 'you', 'might', 'think', 'with', 'some', 'good', 'cinematography', 'by', 'future', 'great', 'vilmos', 'zsigmond', 'future', 'star', 'sally', 'kirkland', 'and', 'frederic', 'forrest', 'can', 'be', 'seen', 'briefly'], ['bromwell', 'high', 'is', 'nothing', 'short', 'of', 'brilliant', 'expertly', 'scripted', 'and', 'perfectly', 'delivered', 'this', 'searing', 'parody', 'of', 'a', 'student', 'and', 'teacher', 'at', 'a', 'south', 'london', 'public', 'school', 'leaf', 'you', 'literally', 'rolling', 'with', 'laughter', 'it', 'vulgar', 'provocative', 'witty', 'and', 'sharp', 'the', 'character', 'are', 'a', 'superbly', 'caricatured', 'cross', 'section', 'of', 'british', 'society', 'or', 'to', 'be', 'more', 'accurate', 'of', 'any', 'society', 'following', 'the', 'escapade', 'of', 'keisha', 'latrina', 'and', 'natella', 'our', 'three', 'protagonist', 'for', 'want', 'of', 'a', 'better', 'term', 'the', 'show', 'doesnt', 'shy', 'away', 'from', 'parodying', 'every', 'imaginable', 'subject', 'political', 'correctness', 'fly', 'out', 'the', 'window', 'in', 'every', 'episode', 'if', 'you', 'enjoy', 'show', 'that', 'arent', 'afraid', 'to', 'poke', 'fun', 'of', 'every', 'taboo', 'subject', 'imaginable', 'then', 'bromwell', 'high', 'will', 'not', 'disappoint'], ['if', 'i', 'had', 'not', 'read', 'pat', 'barker', 'union', 'street', 'before', 'seeing', 'this', 'film', 'i', 'would', 'have', 'liked', 'it', 'unfortuntately', 'this', 'is', 'not', 'the', 'case', 'it', 'is', 'actually', 'my', 'kind', 'of', 'film', 'it', 'is', 'well', 'made', 'and', 'in', 'no', 'way', 'do', 'i', 'want', 'to', 'say', 'otherwise', 'but', 'a', 'an', 'adaptation', 'it', 'fails', 'from', 'every', 'anglebr', 'br', 'the', 'harrowing', 'novel', 'about', 'the', 'reality', 'of', 'living', 'in', 'a', 'northern', 'england', 'workingclass', 'area', 'grabbed', 'hold', 'of', 'my', 'heartstrings', 'and', 'refused', 'to', 'let', 'go', 'for', 'week', 'after', 'i', 'had', 'finished', 'i', 'wa', 'put', 'through', 'tear', 'repulsion', 'shock', 'anger', 'sympathy', 'and', 'misery', 'when', 'reading', 'about', 'the', 'woman', 'of', 'union', 'street', 'excellent', 'a', 'novel', 'that', 'at', 'time', 'i', 'felt', 'i', 'could', 'not', 'read', 'any', 'more', 'of', 'but', 'i', 'novel', 'i', 'simply', 'couldnt', 'put', 'down', 'depressing', 'yes', 'but', 'utterly', 'grippingbr', 'br', 'the', 'film', 'oh', 'dear', 'hollywood', 'took', 'barker', 'truth', 'and', 'reality', 'and', 'showered', 'a', 'layer', 'of', 'sweet', 'icing', 'sugar', 'over', 'the', 'top', 'of', 'it', 'a', 'beautiful', 'film', 'an', 'inspiring', 'soundtrack', 'excellent', 'performance', 'a', 'tale', 'of', 'hope', 'and', 'romanceyes', 'an', 'adaptation', 'of', 'union', 'streetnobr', 'br', 'the', 'woman', 'of', 'union', 'street', 'and', 'their', 'story', 'are', 'condensed', 'into', 'fonda', 'character', 'their', 'story', 'are', 'touched', 'on', 'but', 'many', 'are', 'discarded', 'i', 'accept', 'that', 'some', 'of', 'barker', 'tale', 'are', 'sensitive', 'issue', 'and', 'are', 'too', 'horrific', 'for', 'mass', 'viewing', 'and', 'that', 'a', 'film', 'with', 'around', 'leading', 'protagonist', 'just', 'isnt', 'practical', 'but', 'the', 'content', 'is', 'not', 'my', 'main', 'issue', 'the', 'essence', 'and', 'the', 'real', 'gut', 'of', 'the', 'novel', 'is', 'lost', 'darkness', 'and', 'rain', 'broken', 'window', 'covered', 'with', 'cardboard', 'and', 'the', 'graphically', 'described', 'stench', 'of', 'poverty', 'is', 'replaced', 'with', 'sunshine', 'pretty', 'house', 'and', 'a', 'twinkling', 'williams', 'scorebr', 'br', 'if', 'you', 'enjoyed', 'the', 'film', 'for', 'it', 'positivity', 'and', 'hope', 'in', 'the', 'face', 'of', 'reality', 'i', 'advise', 'that', 'you', 'hesitate', 'to', 'read', 'the', 'book', 'without', 'first', 'preparing', 'yourself', 'for', 'something', 'more', 'like', 'schindlers', 'listbut', 'without', 'the', 'happy', 'ending'], ['bromwell', 'high', 'is', 'a', 'cartoon', 'comedy', 'it', 'ran', 'at', 'the', 'same', 'time', 'a', 'some', 'other', 'program', 'about', 'school', 'life', 'such', 'a', 'teacher', 'my', 'year', 'in', 'the', 'teaching', 'profession', 'lead', 'me', 'to', 'believe', 'that', 'bromwell', 'high', 'satire', 'is', 'much', 'closer', 'to', 'reality', 'than', 'is', 'teacher', 'the', 'scramble', 'to', 'survive', 'financially', 'the', 'insightful', 'student', 'who', 'can', 'see', 'right', 'through', 'their', 'pathetic', 'teacher', 'pomp', 'the', 'pettiness', 'of', 'the', 'whole', 'situation', 'all', 'remind', 'me', 'of', 'the', 'school', 'i', 'knew', 'and', 'their', 'student', 'when', 'i', 'saw', 'the', 'episode', 'in', 'which', 'a', 'student', 'repeatedly', 'tried', 'to', 'burn', 'down', 'the', 'school', 'i', 'immediately', 'recalled', 'at', 'high', 'a', 'classic', 'line', 'inspector', 'im', 'here', 'to', 'sack', 'one', 'of', 'your', 'teacher', 'student', 'welcome', 'to', 'bromwell', 'high', 'i', 'expect', 'that', 'many', 'adult', 'of', 'my', 'age', 'think', 'that', 'bromwell', 'high', 'is', 'far', 'fetched', 'what', 'a', 'pity', 'that', 'it', 'isnt'], ['robert', 'deniro', 'play', 'the', 'most', 'unbelievably', 'intelligent', 'illiterate', 'of', 'all', 'time', 'this', 'movie', 'is', 'so', 'wasteful', 'of', 'talent', 'it', 'is', 'truly', 'disgusting', 'the', 'script', 'is', 'unbelievable', 'the', 'dialog', 'is', 'unbelievable', 'jane', 'fonda', 'character', 'is', 'a', 'caricature', 'of', 'herself', 'and', 'not', 'a', 'funny', 'one', 'the', 'movie', 'move', 'at', 'a', 'snail', 'pace', 'is', 'photographed', 'in', 'an', 'illadvised', 'manner', 'and', 'is', 'insufferably', 'preachy', 'it', 'also', 'plug', 'in', 'every', 'cliche', 'in', 'the', 'book', 'swoozie', 'kurtz', 'is', 'excellent', 'in', 'a', 'supporting', 'role', 'but', 'so', 'whatbr', 'br', 'equally', 'annoying', 'is', 'this', 'new', 'imdb', 'rule', 'of', 'requiring', 'ten', 'line', 'for', 'every', 'review', 'when', 'a', 'movie', 'is', 'this', 'worthless', 'it', 'doesnt', 'require', 'ten', 'line', 'of', 'text', 'to', 'let', 'other', 'reader', 'know', 'that', 'it', 'is', 'a', 'waste', 'of', 'time', 'and', 'tape', 'avoid', 'this', 'movie'], ['if', 'you', 'like', 'adult', 'comedy', 'cartoon', 'like', 'south', 'park', 'then', 'this', 'is', 'nearly', 'a', 'similar', 'format', 'about', 'the', 'small', 'adventure', 'of', 'three', 'teenage', 'girl', 'at', 'bromwell', 'high', 'keisha', 'natella', 'and', 'latrina', 'have', 'given', 'exploding', 'sweet', 'and', 'behaved', 'like', 'bitch', 'i', 'think', 'keisha', 'is', 'a', 'good', 'leader', 'there', 'are', 'also', 'small', 'story', 'going', 'on', 'with', 'the', 'teacher', 'of', 'the', 'school', 'there', 'the', 'idiotic', 'principal', 'mr', 'bip', 'the', 'nervous', 'math', 'teacher', 'and', 'many', 'others', 'the', 'cast', 'is', 'also', 'fantastic', 'lenny', 'henry', 'gina', 'yashere', 'eastenders', 'chrissie', 'watt', 'tracyann', 'oberman', 'smack', 'the', 'pony', 'doon', 'mackichan', 'dead', 'ringer', 'mark', 'perry', 'and', 'blunder', 'nina', 'conti', 'i', 'didnt', 'know', 'this', 'came', 'from', 'canada', 'but', 'it', 'is', 'very', 'good', 'very', 'good']]\n"
     ]
    }
   ],
   "source": [
    "# Task 3: Stemming and Lemmatization \n",
    "#option 1\n",
    "\n",
    "import nltk\n",
    "\n",
    "# Download necessary resources from NLTK (if not done before)\n",
    "nltk.download('punkt')\n",
    "nltk.download('wordnet')\n",
    "\n",
    "from nltk.stem import PorterStemmer, WordNetLemmatizer\n",
    "\n",
    "stemmer = PorterStemmer()\n",
    "lemmatizer = WordNetLemmatizer()\n",
    "\n",
    "def stem_and_lemmatize(reviews):\n",
    "    stemmed_reviews = []\n",
    "    lemmatized_reviews = []\n",
    "    \n",
    "    for review in reviews:\n",
    "        stemmed_review = [stemmer.stem(word) for word in review]\n",
    "        lemmatized_review = [lemmatizer.lemmatize(word) for word in review]\n",
    "        \n",
    "        stemmed_reviews.append(stemmed_review)\n",
    "        lemmatized_reviews.append(lemmatized_review)\n",
    "\n",
    "    return stemmed_reviews, lemmatized_reviews\n",
    "\n",
    "stemmed_results, lemmatized_results = stem_and_lemmatize(processed_reviews)\n",
    "\n",
    "print(\"Stemmed Results:\", stemmed_results)\n",
    "print(\"Lemmatized Results:\", lemmatized_results)"
   ]
  },
  {
   "cell_type": "code",
   "execution_count": 13,
   "id": "738ea84d",
   "metadata": {
    "collapsed": true
   },
   "outputs": [
    {
     "name": "stdout",
     "output_type": "stream",
     "text": [
      "\n",
      "Original: [['story', 'of', 'a', 'man', 'who', 'has', 'unnatural', 'feelings', 'for', 'a', 'pig', 'starts', 'out', 'with', 'a', 'opening', 'scene', 'that', 'is', 'a', 'terrific', 'example', 'of', 'absurd', 'comedy', 'a', 'formal', 'orchestra', 'audience', 'is', 'turned', 'into', 'an', 'insane', 'violent', 'mob', 'by', 'the', 'crazy', 'chantings', 'of', 'its', 'singers', 'unfortunately', 'it', 'stays', 'absurd', 'the', 'whole', 'time', 'with', 'no', 'general', 'narrative', 'eventually', 'making', 'it', 'just', 'too', 'off', 'putting', 'even', 'those', 'from', 'the', 'era', 'should', 'be', 'turned', 'off', 'the', 'cryptic', 'dialogue', 'would', 'make', 'shakespeare', 'seem', 'easy', 'to', 'a', 'third', 'grader', 'on', 'a', 'technical', 'level', 'its', 'better', 'than', 'you', 'might', 'think', 'with', 'some', 'good', 'cinematography', 'by', 'future', 'great', 'vilmos', 'zsigmond', 'future', 'stars', 'sally', 'kirkland', 'and', 'frederic', 'forrest', 'can', 'be', 'seen', 'briefly']]\n",
      "Stemmed: [['stori', 'of', 'a', 'man', 'who', 'ha', 'unnatur', 'feel', 'for', 'a', 'pig', 'start', 'out', 'with', 'a', 'open', 'scene', 'that', 'is', 'a', 'terrif', 'exampl', 'of', 'absurd', 'comedi', 'a', 'formal', 'orchestra', 'audienc', 'is', 'turn', 'into', 'an', 'insan', 'violent', 'mob', 'by', 'the', 'crazi', 'chant', 'of', 'it', 'singer', 'unfortun', 'it', 'stay', 'absurd', 'the', 'whole', 'time', 'with', 'no', 'gener', 'narr', 'eventu', 'make', 'it', 'just', 'too', 'off', 'put', 'even', 'those', 'from', 'the', 'era', 'should', 'be', 'turn', 'off', 'the', 'cryptic', 'dialogu', 'would', 'make', 'shakespear', 'seem', 'easi', 'to', 'a', 'third', 'grader', 'on', 'a', 'technic', 'level', 'it', 'better', 'than', 'you', 'might', 'think', 'with', 'some', 'good', 'cinematographi', 'by', 'futur', 'great', 'vilmo', 'zsigmond', 'futur', 'star', 'salli', 'kirkland', 'and', 'freder', 'forrest', 'can', 'be', 'seen', 'briefli']]\n",
      "Lemmatized: [['story', 'of', 'a', 'man', 'who', 'ha', 'unnatural', 'feeling', 'for', 'a', 'pig', 'start', 'out', 'with', 'a', 'opening', 'scene', 'that', 'is', 'a', 'terrific', 'example', 'of', 'absurd', 'comedy', 'a', 'formal', 'orchestra', 'audience', 'is', 'turned', 'into', 'an', 'insane', 'violent', 'mob', 'by', 'the', 'crazy', 'chanting', 'of', 'it', 'singer', 'unfortunately', 'it', 'stay', 'absurd', 'the', 'whole', 'time', 'with', 'no', 'general', 'narrative', 'eventually', 'making', 'it', 'just', 'too', 'off', 'putting', 'even', 'those', 'from', 'the', 'era', 'should', 'be', 'turned', 'off', 'the', 'cryptic', 'dialogue', 'would', 'make', 'shakespeare', 'seem', 'easy', 'to', 'a', 'third', 'grader', 'on', 'a', 'technical', 'level', 'it', 'better', 'than', 'you', 'might', 'think', 'with', 'some', 'good', 'cinematography', 'by', 'future', 'great', 'vilmos', 'zsigmond', 'future', 'star', 'sally', 'kirkland', 'and', 'frederic', 'forrest', 'can', 'be', 'seen', 'briefly']]\n"
     ]
    }
   ],
   "source": [
    "# Task 3: Stemming and Lemmatization \n",
    "# option 2 \n",
    "\n",
    "stemmer = PorterStemmer()\n",
    "lemmatizer = WordNetLemmatizer()\n",
    "\n",
    "stemmed_reviews = [[stemmer.stem(word) for word in review] for review in preprocessed_reviews]\n",
    "lemmatized_reviews = [[lemmatizer.lemmatize(word) for word in review] for review in preprocessed_reviews]\n",
    "\n",
    "# Compare results (printing for inspection)\n",
    "print(\"\\nOriginal:\", preprocessed_reviews[:1])\n",
    "print(\"Stemmed:\", stemmed_reviews[:1])\n",
    "print(\"Lemmatized:\", lemmatized_reviews[:1])\n"
   ]
  },
  {
   "cell_type": "markdown",
   "id": "8cb1ba6f",
   "metadata": {},
   "source": [
    "# Task 4\n",
    "# Use your preferred corpus from task 3 and apply stop word removal. That is, remove every word from a stop word list from your text. Beware that you have to apply the same pre-processing of your text to your stop words, such as removing the apostrophe from ”don’t”.\n",
    "# Compare the most common words with the results from task 2. What do you notice?\n"
   ]
  },
  {
   "cell_type": "code",
   "execution_count": null,
   "id": "6d4f2ded",
   "metadata": {},
   "outputs": [],
   "source": [
    "# Task 4: Stop Word Removal\n",
    "#Finally, we can remove stop words from our preferred corpus (you can choose either stemming or lemmatization):"
   ]
  },
  {
   "cell_type": "code",
   "execution_count": 14,
   "id": "a74ba5f5",
   "metadata": {},
   "outputs": [
    {
     "name": "stdout",
     "output_type": "stream",
     "text": [
      "Most common words after stop word removal: [('high', 8), ('bromwell', 7), ('teacher', 7), ('every', 6), ('film', 6), ('time', 5), ('student', 5), ('school', 5), ('br', 5), ('story', 4)]\n"
     ]
    },
    {
     "name": "stderr",
     "output_type": "stream",
     "text": [
      "[nltk_data] Downloading package stopwords to\n",
      "[nltk_data]     /Users/oayanwale/nltk_data...\n",
      "[nltk_data]   Package stopwords is already up-to-date!\n"
     ]
    }
   ],
   "source": [
    "nltk.download('stopwords')\n",
    "from nltk.corpus import stopwords\n",
    "\n",
    "stop_words = set(stopwords.words('english'))\n",
    "\n",
    "def remove_stop_words(reviews):\n",
    "    filtered_reviews = []\n",
    "    \n",
    "    for review in reviews:\n",
    "        filtered_review = [word for word in review if word not in stop_words]\n",
    "        filtered_reviews.append(filtered_review)\n",
    "    \n",
    "    return filtered_reviews\n",
    "\n",
    "# Choose your preferred method (either `stemmed_results` or `lemmatized_results`)\n",
    "preferred_corpus_with_stopwords_removed = remove_stop_words(lemmatized_results)\n",
    "\n",
    "# Count most common words after stop word removal \n",
    "filtered_word_counts = Counter(word for review in preferred_corpus_with_stopwords_removed for word in review)\n",
    "\n",
    "filtered_most_common_words = filtered_word_counts.most_common(10)\n",
    "print(\"Most common words after stop word removal:\", filtered_most_common_words)"
   ]
  },
  {
   "cell_type": "code",
   "execution_count": 15,
   "id": "5eda0063",
   "metadata": {},
   "outputs": [
    {
     "name": "stdout",
     "output_type": "stream",
     "text": [
      "\n",
      "Most common words after stop word removal: [('high', 8), ('bromwell', 7), ('teacher', 7), ('every', 6), ('film', 6), ('time', 5), ('student', 5), ('school', 5), ('br', 5), ('story', 4)]\n",
      "\n",
      "Notice the shift in frequent words after removing stop words. Content-related words become more prominent.\n"
     ]
    }
   ],
   "source": [
    "# Task 4: Stop Word Removal alternative \n",
    "# option 2\n",
    "stop_words = set(stopwords.words('english'))\n",
    "\n",
    "def remove_stopwords(review):\n",
    "    return [word for word in review if word not in stop_words]\n",
    "\n",
    "filtered_reviews = [remove_stopwords(review) for review in lemmatized_reviews]\n",
    "\n",
    "# Recount word frequencies after stop word removal\n",
    "filtered_all_words = [word for review in filtered_reviews for word in review]\n",
    "filtered_word_counts = Counter(filtered_all_words)\n",
    "filtered_most_common_words = filtered_word_counts.most_common(10)\n",
    "\n",
    "print(\"\\nMost common words after stop word removal:\", filtered_most_common_words)\n",
    "\n",
    "# Observations\n",
    "print(\"\\nNotice the shift in frequent words after removing stop words. Content-related words become more prominent.\")\n"
   ]
  },
  {
   "cell_type": "code",
   "execution_count": null,
   "id": "a423f294",
   "metadata": {},
   "outputs": [],
   "source": []
  }
 ],
 "metadata": {
  "kernelspec": {
   "display_name": "Python 3 (ipykernel)",
   "language": "python",
   "name": "python3"
  },
  "language_info": {
   "codemirror_mode": {
    "name": "ipython",
    "version": 3
   },
   "file_extension": ".py",
   "mimetype": "text/x-python",
   "name": "python",
   "nbconvert_exporter": "python",
   "pygments_lexer": "ipython3",
   "version": "3.9.6"
  }
 },
 "nbformat": 4,
 "nbformat_minor": 5
}
