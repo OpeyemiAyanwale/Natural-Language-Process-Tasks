{
 "cells": [
  {
   "cell_type": "code",
   "execution_count": null,
   "id": "cd8c18eb",
   "metadata": {},
   "outputs": [],
   "source": [
    "# Exercise sheet 1 with magic.text data"
   ]
  },
  {
   "cell_type": "markdown",
   "id": "b79abffd",
   "metadata": {},
   "source": [
    "# Task 1\n",
    "# It contains the description of 1419 Magic: The Gathering cards. \n",
    "# This description contains crucial information about each card, such as its name, its mana cost, \n",
    "# its type and its effect. Your task will be to extract all crucial information from this data set \n",
    "# of unstructured text and turn it into a well-structured data format."
   ]
  },
  {
   "cell_type": "code",
   "execution_count": 1,
   "id": "b423bc79",
   "metadata": {},
   "outputs": [],
   "source": [
    "# Required Libraries\n",
    "import pandas as pd\n",
    "from collections import Counter"
   ]
  },
  {
   "cell_type": "code",
   "execution_count": 3,
   "id": "73d8ef87",
   "metadata": {},
   "outputs": [],
   "source": [
    "# Task 1 in Moodle you will find the file magic.txt. Load and Read the Data\n",
    "with open('/Users/oayanwale/Downloads/NLP_Exercise_24_25/Data/magic.txt', 'r') as file:\n",
    "    data = file.readlines()\n"
   ]
  },
  {
   "cell_type": "code",
   "execution_count": 4,
   "id": "0f848284",
   "metadata": {},
   "outputs": [],
   "source": [
    "# Task 1 option 2\n",
    "with open('/Users/oayanwale/Downloads/NLP_Exercise_24_25/Data/magic.txt', 'r', encoding='utf-8') as file:\n",
    "    data = file.readlines()"
   ]
  },
  {
   "cell_type": "markdown",
   "id": "4aa80061",
   "metadata": {},
   "source": [
    "# Task 2 Each line in the document represents the information about one card. \n",
    "# Split the lines (separator ”\\n”) to be able to look at each card individually. \n",
    "# The result should be a list of strings/a character vector."
   ]
  },
  {
   "cell_type": "code",
   "execution_count": 5,
   "id": "2df44d64",
   "metadata": {},
   "outputs": [],
   "source": [
    "# Task 2 Split the lines to create a list of strings:\n",
    "cards = [line.strip() for line in data if line.strip()]"
   ]
  },
  {
   "cell_type": "code",
   "execution_count": 6,
   "id": "8c1e7294",
   "metadata": {},
   "outputs": [
    {
     "name": "stdout",
     "output_type": "stream",
     "text": [
      "CardName: Absorb CardCost: {W}{U}{U} CardType: Instant CardEffect: Counter target spell. You gain 3 life.\n",
      "CardName: Acclaimed Contender CardCost: {2}{W} CardType: Creature — Human Knight CardEffect: When Acclaimed Contender enters the battlefield, if you control another Knight, look at the top five cards of your library. You may reveal a Knight, Aura, Equipment, or legendary artifact card from among them and put it into your hand. Put the rest on the bottom of your library in a random order.\n",
      "CardName: Act of Treason CardCost: {2}{R} CardType: Sorcery CardEffect: Gain control of target creature until end of turn. Untap that creature. It gains haste until end of turn. (It can attack and {T} this turn.)\n",
      "CardName: Aerial Assault CardCost: {2}{W} CardType: Sorcery CardEffect: Destroy target tapped creature. You gain 1 life for each creature you control with flying.\n",
      "CardName: Aeromunculus CardCost: {1}{G}{U} CardType: Creature — Homunculus Mutant CardEffect: Flying {2}{G}{U}: Adapt 1. (If this creature has no +1/+1 counters on it, put a +1/+1 counter on it.)\n"
     ]
    }
   ],
   "source": [
    "for i in range(5):  # Print first 5 lines for example\n",
    "    print(cards[i])"
   ]
  },
  {
   "cell_type": "code",
   "execution_count": 7,
   "id": "a5b164a0",
   "metadata": {},
   "outputs": [],
   "source": [
    "# Task 2 option 2\n",
    "cards = [line.strip() for line in data]"
   ]
  },
  {
   "cell_type": "markdown",
   "id": "f940fb9d",
   "metadata": {},
   "source": [
    "# Task 3\n",
    "# The information about each card is given in the following format:\n",
    "# CardName:  [...]  CardCost:  [...]  CardType:  [...]  CardEffect:  [...]\n",
    "# Exploit this format to extract and save each bit of information separately. Turn the informa- tion you collected into a coherent data frame with the columns “Name”, “Cost”, “Type” and “Effect”.\n"
   ]
  },
  {
   "cell_type": "raw",
   "id": "5e7f33c4",
   "metadata": {
    "vscode": {
     "languageId": "raw"
    }
   },
   "source": [
    "# Regular Expressions: The re.match() function is used here to capture groups based on the expected structure of each line. It allows us to extract each piece of information cleanly."
   ]
  },
  {
   "cell_type": "code",
   "execution_count": 8,
   "id": "cc498d65",
   "metadata": {},
   "outputs": [
    {
     "name": "stdout",
     "output_type": "stream",
     "text": [
      "Index(['Name', 'Cost', 'Type', 'Effect'], dtype='object')\n",
      "                  Name       Cost                          Type  \\\n",
      "0               Absorb  {W}{U}{U}                       Instant   \n",
      "1  Acclaimed Contender     {2}{W}       Creature — Human Knight   \n",
      "2       Act of Treason     {2}{R}                       Sorcery   \n",
      "3       Aerial Assault     {2}{W}                       Sorcery   \n",
      "4         Aeromunculus  {1}{G}{U}  Creature — Homunculus Mutant   \n",
      "\n",
      "                                              Effect  \n",
      "0             Counter target spell. You gain 3 life.  \n",
      "1  When Acclaimed Contender enters the battlefiel...  \n",
      "2  Gain control of target creature until end of t...  \n",
      "3  Destroy target tapped creature. You gain 1 lif...  \n",
      "4  Flying {2}{G}{U}: Adapt 1. (If this creature h...  \n"
     ]
    }
   ],
   "source": [
    "#Task 3 Extract information and create a DataFrame:\n",
    "# Option 1\n",
    "\n",
    "import pandas as pd\n",
    "import re\n",
    "\n",
    "card_data = []\n",
    "for card in cards:\n",
    "    # Use regex to extract information\n",
    "    match = re.match(r\"CardName:\\s*(.*?)\\s*CardCost:\\s*(.*?)\\s*CardType:\\s*(.*?)\\s*CardEffect:\\s*(.*)\", card)\n",
    "    \n",
    "    if match:\n",
    "        name = match.group(1).strip()\n",
    "        cost = match.group(2).strip()\n",
    "        type_ = match.group(3).strip()\n",
    "        effect = match.group(4).strip()\n",
    "\n",
    "        # Append extracted information to card_data list\n",
    "        card_data.append({\"Name\": name, \"Cost\": cost, \"Type\": type_, \"Effect\": effect})\n",
    "\n",
    "# Create DataFrame from collected data\n",
    "df = pd.DataFrame(card_data)\n",
    "\n",
    "# Check columns and display first few rows\n",
    "print(df.columns)  # Should show ['Name', 'Cost', 'Type', 'Effect']\n",
    "print(df.head())   # Display the first few rows of the DataFrame"
   ]
  },
  {
   "cell_type": "code",
   "execution_count": 9,
   "id": "6c4a8812",
   "metadata": {},
   "outputs": [],
   "source": [
    "# Task 3: Extract Information and Create DataFrame\n",
    "# Each card has details in the format: CardName: [...] CardCost: [...] CardType: [...] CardEffect: [...]\n",
    "# Option 2\n",
    "\n",
    "extracted_data = []\n",
    "for card in cards:\n",
    "    try:\n",
    "        name = card.split('CardName: ')[1].split(' CardCost: ')[0]\n",
    "        cost = card.split('CardCost: ')[1].split(' CardType: ')[0]\n",
    "        card_type = card.split('CardType: ')[1].split(' CardEffect: ')[0]\n",
    "        effect = card.split('CardEffect: ')[1]\n",
    "        extracted_data.append({'Name': name, 'Cost': cost, 'Type': card_type, 'Effect': effect})\n",
    "    except IndexError:\n",
    "        print(f\"Skipping malformed line: {card}\")\n",
    "\n",
    "# Convert to DataFrame\n",
    "df = pd.DataFrame(extracted_data)"
   ]
  },
  {
   "cell_type": "markdown",
   "id": "b8629112",
   "metadata": {},
   "source": [
    "# Task 4\n",
    "# Which of the words “Creature”, “Sorcery”, “Instant”, “Enchantment” and “Artifact” appears most often in all the texts within the “Type” column?"
   ]
  },
  {
   "cell_type": "code",
   "execution_count": 10,
   "id": "ffcf422f",
   "metadata": {},
   "outputs": [
    {
     "name": "stdout",
     "output_type": "stream",
     "text": [
      "\n",
      "Most frequent word in 'Type' column:\n",
      "Creature appears 733 times.\n"
     ]
    }
   ],
   "source": [
    "# Task 4 Find which word appears most often in the “Type” column:\n",
    "from collections import Counter\n",
    "\n",
    "keywords = ['Creature', 'Sorcery', 'Instant', 'Enchantment', 'Artifact']\n",
    "word_counts = Counter()\n",
    "\n",
    "for card_type in df['Type']:\n",
    "    for keyword in keywords:\n",
    "        if keyword in card_type:\n",
    "            word_counts[keyword] += 1\n",
    "\n",
    "most_frequent = word_counts.most_common(1)[0]\n",
    "\n",
    "print(\"\\nMost frequent word in 'Type' column:\")\n",
    "print(f\"{most_frequent[0]} appears {most_frequent[1]} times.\")"
   ]
  },
  {
   "cell_type": "code",
   "execution_count": 11,
   "id": "4d4a0a84",
   "metadata": {},
   "outputs": [
    {
     "name": "stdout",
     "output_type": "stream",
     "text": [
      "First 5 rows of the structured DataFrame:\n",
      "                  Name       Cost                          Type  \\\n",
      "0               Absorb  {W}{U}{U}                       Instant   \n",
      "1  Acclaimed Contender     {2}{W}       Creature — Human Knight   \n",
      "2       Act of Treason     {2}{R}                       Sorcery   \n",
      "3       Aerial Assault     {2}{W}                       Sorcery   \n",
      "4         Aeromunculus  {1}{G}{U}  Creature — Homunculus Mutant   \n",
      "\n",
      "                                              Effect  \n",
      "0             Counter target spell. You gain 3 life.  \n",
      "1  When Acclaimed Contender enters the battlefiel...  \n",
      "2  Gain control of target creature until end of t...  \n",
      "3  Destroy target tapped creature. You gain 1 lif...  \n",
      "4  Flying {2}{G}{U}: Adapt 1. (If this creature h...  \n",
      "\n",
      "Most frequent word in 'Type' column:\n",
      "Creature appears 733 times.\n"
     ]
    }
   ],
   "source": [
    "# Output Results\n",
    "print(\"First 5 rows of the structured DataFrame:\")\n",
    "print(df.head())\n",
    "\n",
    "print(\"\\nMost frequent word in 'Type' column:\")\n",
    "print(f\"{most_frequent[0]} appears {most_frequent[1]} times.\")"
   ]
  },
  {
   "cell_type": "code",
   "execution_count": null,
   "id": "7eba44a7",
   "metadata": {},
   "outputs": [],
   "source": [
    "# Save the structured DataFrame to a CSV file\n",
    "df.to_csv('/Users/oayanwale/Downloads/NLP_Exercise_24_25/Data/structured_magic_cards.csv', index=False)\n"
   ]
  }
 ],
 "metadata": {
  "kernelspec": {
   "display_name": "Python 3 (ipykernel)",
   "language": "python",
   "name": "python3"
  },
  "language_info": {
   "codemirror_mode": {
    "name": "ipython",
    "version": 3
   },
   "file_extension": ".py",
   "mimetype": "text/x-python",
   "name": "python",
   "nbconvert_exporter": "python",
   "pygments_lexer": "ipython3",
   "version": "3.9.6"
  }
 },
 "nbformat": 4,
 "nbformat_minor": 5
}
