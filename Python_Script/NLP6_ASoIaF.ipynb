{
 "cells": [
  {
   "cell_type": "code",
   "execution_count": null,
   "metadata": {},
   "outputs": [],
   "source": [
    "# Exercise sheet 6 with the ASoIaF.zip Load the data set into your console."
   ]
  },
  {
   "cell_type": "markdown",
   "metadata": {},
   "source": [
    "# Task 1\n",
    "\n",
    "# In moodle you will find the file ASoIaF.zip. It contains the five books of the “A song of ice and fire” series in a plain txt-format. Load all files into your console.\n",
    "\n",
    "# We are interested in how the story and its themes develop over time. For this, we will train a topic model on each book and compare them.\n"
   ]
  },
  {
   "cell_type": "code",
   "execution_count": 1,
   "metadata": {},
   "outputs": [
    {
     "name": "stdout",
     "output_type": "stream",
     "text": [
      "Defaulting to user installation because normal site-packages is not writeable\n",
      "Requirement already satisfied: gensim in /Users/oayanwale/Library/Python/3.9/lib/python/site-packages (4.3.3)\n",
      "Requirement already satisfied: nltk in /Users/oayanwale/Library/Python/3.9/lib/python/site-packages (3.8.1)\n",
      "Requirement already satisfied: matplotlib in /Users/oayanwale/Library/Python/3.9/lib/python/site-packages (3.9.4)\n",
      "Requirement already satisfied: numpy<2.0,>=1.18.5 in /Users/oayanwale/Library/Python/3.9/lib/python/site-packages (from gensim) (1.26.2)\n",
      "Requirement already satisfied: scipy<1.14.0,>=1.7.0 in /Users/oayanwale/Library/Python/3.9/lib/python/site-packages (from gensim) (1.11.4)\n",
      "Requirement already satisfied: smart-open>=1.8.1 in /Users/oayanwale/Library/Python/3.9/lib/python/site-packages (from gensim) (7.1.0)\n",
      "Requirement already satisfied: click in /Users/oayanwale/Library/Python/3.9/lib/python/site-packages (from nltk) (8.1.7)\n",
      "Requirement already satisfied: joblib in /Users/oayanwale/Library/Python/3.9/lib/python/site-packages (from nltk) (1.3.2)\n",
      "Requirement already satisfied: regex>=2021.8.3 in /Users/oayanwale/Library/Python/3.9/lib/python/site-packages (from nltk) (2023.10.3)\n",
      "Requirement already satisfied: tqdm in /Users/oayanwale/Library/Python/3.9/lib/python/site-packages (from nltk) (4.67.1)\n",
      "Requirement already satisfied: contourpy>=1.0.1 in /Users/oayanwale/Library/Python/3.9/lib/python/site-packages (from matplotlib) (1.3.0)\n",
      "Requirement already satisfied: cycler>=0.10 in /Users/oayanwale/Library/Python/3.9/lib/python/site-packages (from matplotlib) (0.12.1)\n",
      "Requirement already satisfied: fonttools>=4.22.0 in /Users/oayanwale/Library/Python/3.9/lib/python/site-packages (from matplotlib) (4.55.8)\n",
      "Requirement already satisfied: kiwisolver>=1.3.1 in /Users/oayanwale/Library/Python/3.9/lib/python/site-packages (from matplotlib) (1.4.7)\n",
      "Requirement already satisfied: packaging>=20.0 in /Users/oayanwale/Library/Python/3.9/lib/python/site-packages (from matplotlib) (23.2)\n",
      "Requirement already satisfied: pillow>=8 in /Users/oayanwale/Library/Python/3.9/lib/python/site-packages (from matplotlib) (11.1.0)\n",
      "Requirement already satisfied: pyparsing>=2.3.1 in /Users/oayanwale/Library/Python/3.9/lib/python/site-packages (from matplotlib) (3.2.1)\n",
      "Requirement already satisfied: python-dateutil>=2.7 in /Users/oayanwale/Library/Python/3.9/lib/python/site-packages (from matplotlib) (2.8.2)\n",
      "Requirement already satisfied: importlib-resources>=3.2.0 in /Users/oayanwale/Library/Python/3.9/lib/python/site-packages (from matplotlib) (6.5.2)\n",
      "Requirement already satisfied: zipp>=3.1.0 in /Users/oayanwale/Library/Python/3.9/lib/python/site-packages (from importlib-resources>=3.2.0->matplotlib) (3.17.0)\n",
      "Requirement already satisfied: six>=1.5 in /Library/Developer/CommandLineTools/Library/Frameworks/Python3.framework/Versions/3.9/lib/python3.9/site-packages (from python-dateutil>=2.7->matplotlib) (1.15.0)\n",
      "Requirement already satisfied: wrapt in /Users/oayanwale/Library/Python/3.9/lib/python/site-packages (from smart-open>=1.8.1->gensim) (1.17.2)\n",
      "Note: you may need to restart the kernel to use updated packages.\n"
     ]
    }
   ],
   "source": [
    "pip install gensim nltk matplotlib\n"
   ]
  },
  {
   "cell_type": "code",
   "execution_count": 73,
   "metadata": {},
   "outputs": [
    {
     "name": "stdout",
     "output_type": "stream",
     "text": [
      "Number of books loaded: 6\n"
     ]
    }
   ],
   "source": [
    "import os\n",
    "\n",
    "# Correct path to your unzipped folder\n",
    "directory_path = '/Users/oayanwale/Downloads/NLP_Exercise_23/ASoIaF/ASoIaF' \n",
    "\n",
    "# Task 1\n",
    "books = []\n",
    "for filename in sorted(os.listdir(directory_path)):\n",
    "    try:\n",
    "        with open(os.path.join(directory_path, filename), \"r\", encoding=\"utf-8\") as file:\n",
    "            books.append(file.read())  # Append to books instead of data\n",
    "    except UnicodeError:\n",
    "        with open(os.path.join(directory_path, filename), \"r\", encoding=\"windows-1252\") as file:\n",
    "            books.append(file.read())  # Append to books instead of data\n",
    "\n",
    "print(\"Number of books loaded:\", len(books))  # Check how many books were loaded"
   ]
  },
  {
   "cell_type": "markdown",
   "metadata": {},
   "source": [
    "# Task 2\n",
    "# Remove unwanted fragments that are not part of the narrative. \n",
    "# Then split the texts into indi- vidual chapters, resulting in one large (chronologically ordered) list of chapters for each book.\n"
   ]
  },
  {
   "cell_type": "code",
   "execution_count": 60,
   "metadata": {},
   "outputs": [
    {
     "name": "stdout",
     "output_type": "stream",
     "text": [
      "Book 1 has 1 chapters.\n",
      "Book 2 has 1 chapters.\n",
      "Book 3 has 5 chapters.\n",
      "Book 4 has 81 chapters.\n",
      "Book 5 has 1 chapters.\n",
      "Book 6 has 1 chapters.\n"
     ]
    }
   ],
   "source": [
    "import re\n",
    "\n",
    "def clean_text(book_text):\n",
    "    # Remove unwanted fragments using regex patterns (this is just an example; adjust as needed)\n",
    "    # For instance, if there are parts that start with \"Foreword\", \"Appendix\", etc.\n",
    "    book_text = re.sub(r'(?i)foreword.*?(?=\\nChapter \\d+)', '', book_text, flags=re.DOTALL)  # Remove foreword section\n",
    "    book_text = re.sub(r'(?i)appendix.*$', '', book_text, flags=re.DOTALL)  # Remove appendix section\n",
    "\n",
    "    return book_text\n",
    "\n",
    "def split_into_chapters(book_text):\n",
    "    # Clean the book text first\n",
    "    cleaned_book_text = clean_text(book_text)\n",
    "\n",
    "    # Split chapters assuming they start with \"Chapter\" followed by a number\n",
    "    chapters = re.split(r'\\nChapter \\d+', cleaned_book_text)\n",
    "    \n",
    "    return [chapter.strip() for chapter in chapters if chapter.strip()]\n",
    "\n",
    "# Split each book into chapters after cleaning\n",
    "chapters_per_book = [split_into_chapters(book) for book in books]\n",
    "\n",
    "# Check how many chapters were created per book\n",
    "for i, chapters in enumerate(chapters_per_book):\n",
    "    print(f\"Book {i + 1} has {len(chapters)} chapters.\")"
   ]
  },
  {
   "cell_type": "markdown",
   "metadata": {},
   "source": [
    "# Task 3\n",
    "# Preprocess the texts so that they are fit for an analysis. Argue the preprocess steps"
   ]
  },
  {
   "cell_type": "code",
   "execution_count": 76,
   "metadata": {},
   "outputs": [
    {
     "name": "stderr",
     "output_type": "stream",
     "text": [
      "[nltk_data] Downloading package punkt to /Users/oayanwale/nltk_data...\n",
      "[nltk_data]   Package punkt is already up-to-date!\n",
      "[nltk_data] Downloading package stopwords to\n",
      "[nltk_data]     /Users/oayanwale/nltk_data...\n",
      "[nltk_data]   Package stopwords is already up-to-date!\n",
      "[nltk_data] Downloading package wordnet to\n",
      "[nltk_data]     /Users/oayanwale/nltk_data...\n",
      "[nltk_data]   Package wordnet is already up-to-date!\n"
     ]
    },
    {
     "name": "stdout",
     "output_type": "stream",
     "text": [
      "Chapter 1 (preprocessed): ['bud1', 'sb.txt', '001ssb.txtptblustrlsystem/volumes/data/users/oayanwale/downloads/nlp_exercise_23/asoiaf/asoiaf/', '001ssb.txtptbnustr', '001ssb.txt', '002ssb.txtptblustrlsystem/volumes/data/users/oayanwale/downloads/nlp_exercise_23/asoiaf/asoiaf/', '002ssb.txtptbnustr', '002ssb.txt', '003ssb.txtptblustrlsystem/volumes/data/users/oayanwale/downloads/nlp_exercise_23/asoiaf/asoiaf/', '003ssb.txtptbnustr', '003ssb.txt', '004ssb.txtptblustrlsystem/volumes/data/users/oayanwale/downloads/nlp_exercise_23/asoiaf/asoiaf/', '004ssb.txtptbnustr', '004ssb.txt', '005ssb.txtptblustrlsystem/volumes/data/users/oayanwale/downloads/nlp_exercise_23/asoiaf/asoiaf/', '005ssb.txtptbnustr', '005ssb.txt', 'dsdb']\n"
     ]
    }
   ],
   "source": [
    "import re\n",
    "import string\n",
    "from nltk.corpus import stopwords\n",
    "from nltk.tokenize import word_tokenize\n",
    "from nltk.stem import WordNetLemmatizer\n",
    "import nltk\n",
    "\n",
    "# Download necessary NLTK resources if not already done.\n",
    "nltk.download('punkt')\n",
    "nltk.download('stopwords')\n",
    "nltk.download('wordnet')\n",
    "\n",
    "# Initialize lemmatizer and stop words list.\n",
    "lemmatizer = WordNetLemmatizer()\n",
    "stop_words = set(stopwords.words('english'))\n",
    "\n",
    "def clean_text(book_text):\n",
    "    # Remove unwanted fragments using regex patterns.\n",
    "    book_text = re.sub(r'(?i)foreword.*?(?=\\nChapter \\d+)', '', book_text, flags=re.DOTALL)\n",
    "    book_text = re.sub(r'(?i)appendix.*$', '', book_text, flags=re.DOTALL)\n",
    "\n",
    "    # Remove non-printable characters (including control characters).\n",
    "    book_text = ''.join(filter(lambda x: x in string.printable, book_text))\n",
    "\n",
    "    # Optionally remove any additional unwanted sequences or artifacts.\n",
    "    book_text = re.sub(r'\\x00+', ' ', book_text)  # Replace multiple null bytes with a space.\n",
    "    \n",
    "    return book_text\n",
    "\n",
    "def preprocess(text):\n",
    "    # Clean the book text first.\n",
    "    cleaned_book_text = clean_text(text)\n",
    "\n",
    "    # Lowercase the cleaned text.\n",
    "    cleaned_book_text = cleaned_book_text.lower()\n",
    "\n",
    "    # Tokenization.\n",
    "    tokens = word_tokenize(cleaned_book_text)\n",
    "\n",
    "    # Remove stop words and lemmatize remaining tokens.\n",
    "    processed_tokens = [\n",
    "        lemmatizer.lemmatize(token)\n",
    "        for token in tokens \n",
    "        if token not in stop_words and len(token) > 1  \n",
    "     ]\n",
    "     \n",
    "    return processed_tokens\n",
    "\n",
    "# Preprocess each chapter across all books again.\n",
    "preprocessed_chapters_per_book = [[preprocess(chapter) for chapter in book] for book in chapters_per_book]\n",
    "\n",
    "# Check a few examples of preprocessed chapters for Book 1 again.\n",
    "for i in range(min(3, len(preprocessed_chapters_per_book[0]))):  # Change 3 to however many you want to check\n",
    "     print(f\"Chapter {i + 1} (preprocessed):\", preprocessed_chapters_per_book[0][i][:50]) "
   ]
  },
  {
   "cell_type": "markdown",
   "metadata": {},
   "source": [
    "Justification of Each Step:\n",
    "Lowercasing ensures that comparisons between words are consistent.\n",
    "Removing punctuation eliminates noise from the dataset since punctuation does not contribute meaningfully to topics.\n",
    "Tokenization breaks down sentences into manageable pieces (tokens), allowing us to analyze word frequency effectively.\n",
    "Removing stop words focuses our analysis on more meaningful terms, enhancing topic detection accuracy.\n",
    "Lemmatization reduces variations of a word, helping consolidate related terms into single representations which improves model performance.\n",
    "Filtering short tokens removes uninformative elements that could skew results without adding value."
   ]
  },
  {
   "cell_type": "markdown",
   "metadata": {},
   "source": [
    "Argument for Preprocess\n",
    "\n",
    "By following this preprocessing pipeline, we ensure that the text data is clean, standardized, and in a suitable format for LDA topic modeling. \n",
    "\n",
    "Each preprocessing step contributes to reducing noise, ensuring consistency, and improving the model's ability to discover meaningful topics from the text. Here's why this approach is appropriate:\n",
    "\n",
    "Tokenization and Lowercasing: Ensures uniformity and avoids treating different forms of the same word as separate entities.\n",
    "\n",
    "Removing Non-Alphabetic Tokens: Focuses on meaningful words and removes irrelevant characters.\n",
    "\n",
    "Removing Stopwords: Eliminates common words that don't add value to topic modeling.\n",
    "\n",
    "Lemmatization: Reduces word variations, standardizing words and helping the model generalize better.\n",
    "Creating a Dictionary and Corpus: Prepares the text data in a structure that is compatible with gensim's LDA model."
   ]
  },
  {
   "cell_type": "markdown",
   "metadata": {},
   "source": [
    "# Alternative analysis "
   ]
  },
  {
   "cell_type": "code",
   "execution_count": 80,
   "metadata": {},
   "outputs": [
    {
     "name": "stderr",
     "output_type": "stream",
     "text": [
      "[nltk_data] Downloading package punkt to /Users/oayanwale/nltk_data...\n",
      "[nltk_data]   Package punkt is already up-to-date!\n",
      "[nltk_data] Downloading package stopwords to\n",
      "[nltk_data]     /Users/oayanwale/nltk_data...\n",
      "[nltk_data]   Package stopwords is already up-to-date!\n"
     ]
    }
   ],
   "source": [
    "import os\n",
    "import re\n",
    "import glob\n",
    "import gensim\n",
    "import nltk\n",
    "import numpy as np\n",
    "from gensim import corpora, models\n",
    "from nltk.corpus import stopwords\n",
    "from nltk.tokenize import word_tokenize, sent_tokenize\n",
    "\n",
    "# Set up NLTK downloads\n",
    "nltk.download('punkt')\n",
    "nltk.download('stopwords')\n",
    "\n",
    "# Define path to the unzipped folder\n",
    "directory_path = '/Users/oayanwale/Downloads/NLP_Exercise_23/ASoIaF/ASoIaF'\n"
   ]
  },
  {
   "cell_type": "code",
   "execution_count": 87,
   "metadata": {},
   "outputs": [],
   "source": [
    "# Task 1: Load all files into Python\n",
    "text_files = sorted(glob.glob(os.path.join(directory_path, \"*.txt\")))\n",
    "books = {}\n",
    "\n",
    "for file_path in text_files:\n",
    "    with open(file_path, \"r\", encoding=\"ISO-8859-1\") as f:  # Fix encoding issue\n",
    "        books[os.path.basename(file_path)] = f.read()"
   ]
  },
  {
   "cell_type": "markdown",
   "metadata": {},
   "source": [
    "# Task 2\n",
    "# Remove unwanted fragments that are not part of the narrative. \n",
    "# Then split the texts into indi- vidual chapters, resulting in one large (chronologically ordered) list of chapters for each book."
   ]
  },
  {
   "cell_type": "code",
   "execution_count": 88,
   "metadata": {},
   "outputs": [],
   "source": [
    "# Task 2: Remove unwanted fragments and split into chapters\n",
    "def clean_and_split(text):\n",
    "    \"\"\"Removes non-narrative text and splits into chapters.\"\"\"\n",
    "    text = re.sub(r'\\s+', ' ', text)  # Normalize spaces\n",
    "    chapters = re.split(r'(?i)CHAPTER\\s+[IVXLCDM]+', text)  # Split at chapter headings\n",
    "    return [ch.strip() for ch in chapters if ch.strip()]\n",
    "\n",
    "book_chapters = {book: clean_and_split(text) for book, text in books.items()}"
   ]
  },
  {
   "cell_type": "markdown",
   "metadata": {},
   "source": [
    "# Task 3\n",
    "# Preprocess the texts so that they are fit for an analysis. Argue the preprocess steps"
   ]
  },
  {
   "cell_type": "code",
   "execution_count": 89,
   "metadata": {},
   "outputs": [],
   "source": [
    "# Task 3: Preprocessing (Tokenization, stopword removal, lemmatization)\n",
    "from nltk.stem import WordNetLemmatizer\n",
    "\n",
    "stop_words = set(stopwords.words('english'))\n",
    "lemmatizer = WordNetLemmatizer()\n",
    "\n",
    "def preprocess(text):\n",
    "    tokens = word_tokenize(text.lower())  # Tokenize and lowercase\n",
    "    tokens = [word for word in tokens if word.isalnum()]  # Remove punctuation\n",
    "    tokens = [lemmatizer.lemmatize(word) for word in tokens if word not in stop_words]  # Stopword removal and lemmatization\n",
    "    \n",
    "    return tokens\n",
    "\n",
    "processed_books = {book: [preprocess(chapter) for chapter in chapters] for book, chapters in book_chapters.items()}"
   ]
  },
  {
   "cell_type": "markdown",
   "metadata": {},
   "source": [
    "# Task 4\n",
    "# Train five LDAs with K = 10 and 50 iterations on the very first book. \n",
    "# Compare the resulting topics from these four and the model that was originally trained on the first book in task 4. What do you notice? Is “topic 1” the same topic in all models?"
   ]
  },
  {
   "cell_type": "code",
   "execution_count": 92,
   "metadata": {},
   "outputs": [
    {
     "name": "stdout",
     "output_type": "stream",
     "text": [
      "Comparing Model 0 with Model 1 Topics:\n",
      "{0: {'words_a': ['said', 'lord', 'would', 'ser', 'could', 'jon', 'one', 'hand', 'ned', 'man'], 'similarities': [(0, 1.0), (1, 0.5384615384615384), (2, 0.6666666666666666), (3, 0.8181818181818182), (4, 0.8181818181818182), (5, 0.6666666666666666), (6, 0.8181818181818182), (7, 0.42857142857142855), (8, 0.8181818181818182), (9, 0.6666666666666666)]}, 1: {'words_a': ['said', 'lord', 'would', 'ser', 'hand', 'one', 'father', 'man', 'jon', 'back'], 'similarities': [(0, 0.6666666666666666), (1, 0.5384615384615384), (2, 0.5384615384615384), (3, 0.6666666666666666), (4, 0.5384615384615384), (5, 0.5384615384615384), (6, 0.8181818181818182), (7, 0.6666666666666666), (8, 0.5384615384615384), (9, 0.5384615384615384)]}, 2: {'words_a': ['said', 'lord', 'would', 'ser', 'could', 'ned', 'hand', 'man', 'brother', 'jon'], 'similarities': [(0, 0.8181818181818182), (1, 0.5384615384615384), (2, 0.6666666666666666), (3, 0.6666666666666666), (4, 0.6666666666666666), (5, 0.5384615384615384), (6, 0.6666666666666666), (7, 0.42857142857142855), (8, 0.6666666666666666), (9, 0.6666666666666666)]}, 3: {'words_a': ['said', 'lord', 'would', 'could', 'one', 'back', 'ser', 'king', 'ned', 'sword'], 'similarities': [(0, 0.5384615384615384), (1, 0.5384615384615384), (2, 0.5384615384615384), (3, 0.5384615384615384), (4, 0.5384615384615384), (5, 0.5384615384615384), (6, 0.42857142857142855), (7, 0.5384615384615384), (8, 0.5384615384615384), (9, 0.6666666666666666)]}, 4: {'words_a': ['lord', 'said', 'ser', 'would', 'king', 'jon', 'could', 'one', 'father', 'man'], 'similarities': [(0, 0.6666666666666666), (1, 0.5384615384615384), (2, 0.6666666666666666), (3, 0.8181818181818182), (4, 0.5384615384615384), (5, 0.6666666666666666), (6, 0.8181818181818182), (7, 0.6666666666666666), (8, 0.5384615384615384), (9, 0.5384615384615384)]}, 5: {'words_a': ['lord', 'said', 'would', 'ned', 'king', 'could', 'tyrion', 'man', 'father', 'ser'], 'similarities': [(0, 0.5384615384615384), (1, 0.5384615384615384), (2, 0.6666666666666666), (3, 0.5384615384615384), (4, 0.5384615384615384), (5, 0.5384615384615384), (6, 0.5384615384615384), (7, 0.42857142857142855), (8, 0.42857142857142855), (9, 0.5384615384615384)]}, 6: {'words_a': ['said', 'would', 'lord', 'ser', 'jon', 'one', 'hand', 'ned', 'like', 'man'], 'similarities': [(0, 0.8181818181818182), (1, 0.42857142857142855), (2, 0.5384615384615384), (3, 0.6666666666666666), (4, 0.6666666666666666), (5, 0.6666666666666666), (6, 0.6666666666666666), (7, 0.42857142857142855), (8, 0.6666666666666666), (9, 0.5384615384615384)]}, 7: {'words_a': ['said', 'lord', 'man', 'back', 'jon', 'ser', 'could', 'ned', 'one', 'would'], 'similarities': [(0, 0.8181818181818182), (1, 0.5384615384615384), (2, 0.5384615384615384), (3, 0.6666666666666666), (4, 0.6666666666666666), (5, 0.6666666666666666), (6, 0.6666666666666666), (7, 0.5384615384615384), (8, 0.6666666666666666), (9, 0.6666666666666666)]}, 8: {'words_a': ['said', 'lord', 'would', 'could', 'ser', 'king', 'ned', 'one', 'hand', 'back'], 'similarities': [(0, 0.6666666666666666), (1, 0.6666666666666666), (2, 0.6666666666666666), (3, 0.6666666666666666), (4, 0.6666666666666666), (5, 0.5384615384615384), (6, 0.5384615384615384), (7, 0.5384615384615384), (8, 0.6666666666666666), (9, 0.8181818181818182)]}, 9: {'words_a': ['said', 'lord', 'would', 'ned', 'ser', 'jon', 'man', 'one', 'hand', 'back'], 'similarities': [(0, 0.8181818181818182), (1, 0.5384615384615384), (2, 0.5384615384615384), (3, 0.6666666666666666), (4, 0.6666666666666666), (5, 0.6666666666666666), (6, 0.6666666666666666), (7, 0.5384615384615384), (8, 0.6666666666666666), (9, 0.6666666666666666)]}}\n",
      "Comparing Model 0 with Model 2 Topics:\n",
      "{0: {'words_a': ['said', 'lord', 'would', 'ser', 'could', 'jon', 'one', 'hand', 'ned', 'man'], 'similarities': [(0, 0.5384615384615384), (1, 0.8181818181818182), (2, 0.6666666666666666), (3, 0.6666666666666666), (4, 0.8181818181818182), (5, 1.0), (6, 0.8181818181818182), (7, 0.6666666666666666), (8, 0.6666666666666666), (9, 0.6666666666666666)]}, 1: {'words_a': ['said', 'lord', 'would', 'ser', 'hand', 'one', 'father', 'man', 'jon', 'back'], 'similarities': [(0, 0.6666666666666666), (1, 0.5384615384615384), (2, 0.5384615384615384), (3, 0.8181818181818182), (4, 0.5384615384615384), (5, 0.6666666666666666), (6, 0.8181818181818182), (7, 0.5384615384615384), (8, 0.5384615384615384), (9, 0.5384615384615384)]}, 2: {'words_a': ['said', 'lord', 'would', 'ser', 'could', 'ned', 'hand', 'man', 'brother', 'jon'], 'similarities': [(0, 0.42857142857142855), (1, 0.8181818181818182), (2, 0.5384615384615384), (3, 0.5384615384615384), (4, 0.6666666666666666), (5, 0.8181818181818182), (6, 0.6666666666666666), (7, 0.5384615384615384), (8, 0.6666666666666666), (9, 0.5384615384615384)]}, 3: {'words_a': ['said', 'lord', 'would', 'could', 'one', 'back', 'ser', 'king', 'ned', 'sword'], 'similarities': [(0, 0.42857142857142855), (1, 0.42857142857142855), (2, 0.42857142857142855), (3, 0.5384615384615384), (4, 0.6666666666666666), (5, 0.5384615384615384), (6, 0.42857142857142855), (7, 0.8181818181818182), (8, 0.6666666666666666), (9, 0.42857142857142855)]}, 4: {'words_a': ['lord', 'said', 'ser', 'would', 'king', 'jon', 'could', 'one', 'father', 'man'], 'similarities': [(0, 0.42857142857142855), (1, 0.5384615384615384), (2, 0.6666666666666666), (3, 0.8181818181818182), (4, 0.6666666666666666), (5, 0.6666666666666666), (6, 0.8181818181818182), (7, 0.6666666666666666), (8, 0.6666666666666666), (9, 0.5384615384615384)]}, 5: {'words_a': ['lord', 'said', 'would', 'ned', 'king', 'could', 'tyrion', 'man', 'father', 'ser'], 'similarities': [(0, 0.42857142857142855), (1, 0.5384615384615384), (2, 0.42857142857142855), (3, 0.5384615384615384), (4, 0.5384615384615384), (5, 0.5384615384615384), (6, 0.5384615384615384), (7, 0.5384615384615384), (8, 0.6666666666666666), (9, 0.3333333333333333)]}, 6: {'words_a': ['said', 'would', 'lord', 'ser', 'jon', 'one', 'hand', 'ned', 'like', 'man'], 'similarities': [(0, 0.5384615384615384), (1, 0.6666666666666666), (2, 0.5384615384615384), (3, 0.5384615384615384), (4, 0.6666666666666666), (5, 0.8181818181818182), (6, 0.6666666666666666), (7, 0.5384615384615384), (8, 0.5384615384615384), (9, 0.5384615384615384)]}, 7: {'words_a': ['said', 'lord', 'man', 'back', 'jon', 'ser', 'could', 'ned', 'one', 'would'], 'similarities': [(0, 0.5384615384615384), (1, 0.6666666666666666), (2, 0.6666666666666666), (3, 0.8181818181818182), (4, 0.6666666666666666), (5, 0.8181818181818182), (6, 0.6666666666666666), (7, 0.8181818181818182), (8, 0.8181818181818182), (9, 0.5384615384615384)]}, 8: {'words_a': ['said', 'lord', 'would', 'could', 'ser', 'king', 'ned', 'one', 'hand', 'back'], 'similarities': [(0, 0.5384615384615384), (1, 0.5384615384615384), (2, 0.42857142857142855), (3, 0.5384615384615384), (4, 0.8181818181818182), (5, 0.6666666666666666), (6, 0.5384615384615384), (7, 0.8181818181818182), (8, 0.6666666666666666), (9, 0.5384615384615384)]}, 9: {'words_a': ['said', 'lord', 'would', 'ned', 'ser', 'jon', 'man', 'one', 'hand', 'back'], 'similarities': [(0, 0.6666666666666666), (1, 0.6666666666666666), (2, 0.5384615384615384), (3, 0.6666666666666666), (4, 0.6666666666666666), (5, 0.8181818181818182), (6, 0.6666666666666666), (7, 0.6666666666666666), (8, 0.6666666666666666), (9, 0.5384615384615384)]}}\n",
      "Comparing Model 0 with Model 3 Topics:\n",
      "{0: {'words_a': ['said', 'lord', 'would', 'ser', 'could', 'jon', 'one', 'hand', 'ned', 'man'], 'similarities': [(0, 0.8181818181818182), (1, 0.5384615384615384), (2, 1.0), (3, 0.8181818181818182), (4, 0.5384615384615384), (5, 0.8181818181818182), (6, 0.0), (7, 0.8181818181818182), (8, 0.6666666666666666), (9, 0.8181818181818182)]}, 1: {'words_a': ['said', 'lord', 'would', 'ser', 'hand', 'one', 'father', 'man', 'jon', 'back'], 'similarities': [(0, 0.6666666666666666), (1, 0.42857142857142855), (2, 0.6666666666666666), (3, 0.5384615384615384), (4, 0.3333333333333333), (5, 0.5384615384615384), (6, 0.0), (7, 0.5384615384615384), (8, 0.8181818181818182), (9, 0.6666666666666666)]}, 2: {'words_a': ['said', 'lord', 'would', 'ser', 'could', 'ned', 'hand', 'man', 'brother', 'jon'], 'similarities': [(0, 0.6666666666666666), (1, 0.42857142857142855), (2, 0.8181818181818182), (3, 0.6666666666666666), (4, 0.5384615384615384), (5, 0.6666666666666666), (6, 0.0), (7, 0.8181818181818182), (8, 0.5384615384615384), (9, 0.6666666666666666)]}, 3: {'words_a': ['said', 'lord', 'would', 'could', 'one', 'back', 'ser', 'king', 'ned', 'sword'], 'similarities': [(0, 0.5384615384615384), (1, 0.5384615384615384), (2, 0.5384615384615384), (3, 0.6666666666666666), (4, 0.5384615384615384), (5, 0.6666666666666666), (6, 0.0), (7, 0.42857142857142855), (8, 0.5384615384615384), (9, 0.5384615384615384)]}, 4: {'words_a': ['lord', 'said', 'ser', 'would', 'king', 'jon', 'could', 'one', 'father', 'man'], 'similarities': [(0, 0.8181818181818182), (1, 0.5384615384615384), (2, 0.6666666666666666), (3, 0.6666666666666666), (4, 0.5384615384615384), (5, 0.6666666666666666), (6, 0.0), (7, 0.5384615384615384), (8, 0.8181818181818182), (9, 0.5384615384615384)]}, 5: {'words_a': ['lord', 'said', 'would', 'ned', 'king', 'could', 'tyrion', 'man', 'father', 'ser'], 'similarities': [(0, 0.5384615384615384), (1, 0.42857142857142855), (2, 0.5384615384615384), (3, 0.5384615384615384), (4, 0.6666666666666666), (5, 0.5384615384615384), (6, 0.0), (7, 0.5384615384615384), (8, 0.5384615384615384), (9, 0.42857142857142855)]}, 6: {'words_a': ['said', 'would', 'lord', 'ser', 'jon', 'one', 'hand', 'ned', 'like', 'man'], 'similarities': [(0, 0.6666666666666666), (1, 0.5384615384615384), (2, 0.8181818181818182), (3, 0.6666666666666666), (4, 0.5384615384615384), (5, 0.6666666666666666), (6, 0.0), (7, 0.8181818181818182), (8, 0.5384615384615384), (9, 0.6666666666666666)]}, 7: {'words_a': ['said', 'lord', 'man', 'back', 'jon', 'ser', 'could', 'ned', 'one', 'would'], 'similarities': [(0, 0.6666666666666666), (1, 0.5384615384615384), (2, 0.8181818181818182), (3, 0.6666666666666666), (4, 0.5384615384615384), (5, 0.6666666666666666), (6, 0.0), (7, 0.6666666666666666), (8, 0.8181818181818182), (9, 0.8181818181818182)]}, 8: {'words_a': ['said', 'lord', 'would', 'could', 'ser', 'king', 'ned', 'one', 'hand', 'back'], 'similarities': [(0, 0.6666666666666666), (1, 0.5384615384615384), (2, 0.6666666666666666), (3, 0.8181818181818182), (4, 0.5384615384615384), (5, 0.8181818181818182), (6, 0.0), (7, 0.5384615384615384), (8, 0.5384615384615384), (9, 0.6666666666666666)]}, 9: {'words_a': ['said', 'lord', 'would', 'ned', 'ser', 'jon', 'man', 'one', 'hand', 'back'], 'similarities': [(0, 0.6666666666666666), (1, 0.5384615384615384), (2, 0.8181818181818182), (3, 0.6666666666666666), (4, 0.42857142857142855), (5, 0.6666666666666666), (6, 0.0), (7, 0.6666666666666666), (8, 0.6666666666666666), (9, 0.8181818181818182)]}}\n",
      "Comparing Model 0 with Model 4 Topics:\n",
      "{0: {'words_a': ['said', 'lord', 'would', 'ser', 'could', 'jon', 'one', 'hand', 'ned', 'man'], 'similarities': [(0, 0.8181818181818182), (1, 0.8181818181818182), (2, 0.8181818181818182), (3, 0.6666666666666666), (4, 1.0), (5, 0.5384615384615384), (6, 0.6666666666666666), (7, 0.8181818181818182), (8, 0.6666666666666666), (9, 0.42857142857142855)]}, 1: {'words_a': ['said', 'lord', 'would', 'ser', 'hand', 'one', 'father', 'man', 'jon', 'back'], 'similarities': [(0, 0.5384615384615384), (1, 0.5384615384615384), (2, 0.5384615384615384), (3, 0.6666666666666666), (4, 0.6666666666666666), (5, 0.6666666666666666), (6, 0.6666666666666666), (7, 0.5384615384615384), (8, 0.6666666666666666), (9, 0.42857142857142855)]}, 2: {'words_a': ['said', 'lord', 'would', 'ser', 'could', 'ned', 'hand', 'man', 'brother', 'jon'], 'similarities': [(0, 0.6666666666666666), (1, 0.6666666666666666), (2, 0.6666666666666666), (3, 0.5384615384615384), (4, 0.8181818181818182), (5, 0.5384615384615384), (6, 0.5384615384615384), (7, 0.6666666666666666), (8, 0.6666666666666666), (9, 0.3333333333333333)]}, 3: {'words_a': ['said', 'lord', 'would', 'could', 'one', 'back', 'ser', 'king', 'ned', 'sword'], 'similarities': [(0, 0.5384615384615384), (1, 0.5384615384615384), (2, 0.5384615384615384), (3, 0.6666666666666666), (4, 0.5384615384615384), (5, 0.5384615384615384), (6, 0.5384615384615384), (7, 0.6666666666666666), (8, 0.5384615384615384), (9, 0.5384615384615384)]}, 4: {'words_a': ['lord', 'said', 'ser', 'would', 'king', 'jon', 'could', 'one', 'father', 'man'], 'similarities': [(0, 0.6666666666666666), (1, 0.6666666666666666), (2, 0.6666666666666666), (3, 0.8181818181818182), (4, 0.6666666666666666), (5, 0.5384615384615384), (6, 0.6666666666666666), (7, 0.6666666666666666), (8, 0.6666666666666666), (9, 0.42857142857142855)]}, 5: {'words_a': ['lord', 'said', 'would', 'ned', 'king', 'could', 'tyrion', 'man', 'father', 'ser'], 'similarities': [(0, 0.5384615384615384), (1, 0.6666666666666666), (2, 0.5384615384615384), (3, 0.5384615384615384), (4, 0.5384615384615384), (5, 0.5384615384615384), (6, 0.42857142857142855), (7, 0.5384615384615384), (8, 0.6666666666666666), (9, 0.3333333333333333)]}, 6: {'words_a': ['said', 'would', 'lord', 'ser', 'jon', 'one', 'hand', 'ned', 'like', 'man'], 'similarities': [(0, 0.8181818181818182), (1, 0.6666666666666666), (2, 0.8181818181818182), (3, 0.5384615384615384), (4, 0.8181818181818182), (5, 0.5384615384615384), (6, 0.5384615384615384), (7, 0.6666666666666666), (8, 0.5384615384615384), (9, 0.42857142857142855)]}, 7: {'words_a': ['said', 'lord', 'man', 'back', 'jon', 'ser', 'could', 'ned', 'one', 'would'], 'similarities': [(0, 0.8181818181818182), (1, 0.8181818181818182), (2, 0.8181818181818182), (3, 0.8181818181818182), (4, 0.8181818181818182), (5, 0.5384615384615384), (6, 0.8181818181818182), (7, 0.6666666666666666), (8, 0.8181818181818182), (9, 0.5384615384615384)]}, 8: {'words_a': ['said', 'lord', 'would', 'could', 'ser', 'king', 'ned', 'one', 'hand', 'back'], 'similarities': [(0, 0.5384615384615384), (1, 0.5384615384615384), (2, 0.5384615384615384), (3, 0.6666666666666666), (4, 0.6666666666666666), (5, 0.6666666666666666), (6, 0.5384615384615384), (7, 0.8181818181818182), (8, 0.5384615384615384), (9, 0.5384615384615384)]}, 9: {'words_a': ['said', 'lord', 'would', 'ned', 'ser', 'jon', 'man', 'one', 'hand', 'back'], 'similarities': [(0, 0.6666666666666666), (1, 0.6666666666666666), (2, 0.6666666666666666), (3, 0.6666666666666666), (4, 0.8181818181818182), (5, 0.6666666666666666), (6, 0.6666666666666666), (7, 0.6666666666666666), (8, 0.6666666666666666), (9, 0.42857142857142855)]}}\n"
     ]
    }
   ],
   "source": [
    "# Task 4: Train LDA on the first book with K=10 and 50 iterations\n",
    "first_book = list(processed_books.values())[0]\n",
    "dictionary = corpora.Dictionary(first_book)\n",
    "corpus = [dictionary.doc2bow(text) for text in first_book]\n",
    "\n",
    "lda_models = {}\n",
    "for i in range(5):\n",
    "    lda_models[i] = gensim.models.LdaModel(corpus, num_topics=10, id2word=dictionary, passes=50, random_state=i)\n",
    "\n",
    "# Compare topics across models\n",
    "def display_topics(model, num_words=10):\n",
    "    return [[word for word, _ in model.show_topic(topic_id, num_words)] for topic_id in range(10)]\n",
    "\n",
    "topics_list = {i: display_topics(model) for i, model in lda_models.items()}\n",
    "\n",
    "# Function to compare topics between two lists of topics\n",
    "def compare_topics(topics_list_a, topics_list_b):\n",
    "    comparison_results = {}\n",
    "    \n",
    "    for topic_id in range(len(topics_list_a)):\n",
    "        words_a = topics_list_a[topic_id]\n",
    "        comparison_results[topic_id] = {\n",
    "            'words_a': words_a,\n",
    "            'similarities': []\n",
    "        }\n",
    "        \n",
    "        for other_topic_id in range(len(topics_list_b)):\n",
    "            words_b = topics_list_b[other_topic_id]\n",
    "            similarity_score = len(set(words_a).intersection(set(words_b))) / len(set(words_a).union(set(words_b)))\n",
    "            comparison_results[topic_id]['similarities'].append((other_topic_id, similarity_score))\n",
    "    \n",
    "    return comparison_results\n",
    "\n",
    "# Compare the topics of all trained models with the first one\n",
    "for i in range(1, len(lda_models)):\n",
    "    print(f\"Comparing Model 0 with Model {i} Topics:\")\n",
    "    comparison_results = compare_topics(topics_list[0], topics_list[i])\n",
    "    print(comparison_results)"
   ]
  },
  {
   "cell_type": "markdown",
   "metadata": {},
   "source": [
    "Similarity Scores: The similarities list shows how similar each topic is to every other topic in terms of shared words, expressed as a similarity score ranging from 0 to 1:\n",
    "A score of 1.0 means the topics are identical.\n",
    "A score closer to 0 indicates less similarity."
   ]
  },
  {
   "cell_type": "code",
   "execution_count": 93,
   "metadata": {},
   "outputs": [
    {
     "name": "stdout",
     "output_type": "stream",
     "text": [
      "Visualizing Similarity between Model 0 and Model 1\n"
     ]
    },
    {
     "data": {
      "image/png": "[encoded data removed]",
      "text/plain": [
       "<Figure size 1000x800 with 2 Axes>"
      ]
     },
     "metadata": {},
     "output_type": "display_data"
    },
    {
     "name": "stdout",
     "output_type": "stream",
     "text": [
      "Visualizing Similarity between Model 0 and Model 2\n"
     ]
    },
    {
     "data": {
      "image/png": "[encoded data removed]",
      "text/plain": [
       "<Figure size 1000x800 with 2 Axes>"
      ]
     },
     "metadata": {},
     "output_type": "display_data"
    },
    {
     "name": "stdout",
     "output_type": "stream",
     "text": [
      "Visualizing Similarity between Model 0 and Model 3\n"
     ]
    },
    {
     "data": {
      "image/png": "[encoded data removed]",
      "text/plain": [
       "<Figure size 1000x800 with 2 Axes>"
      ]
     },
     "metadata": {},
     "output_type": "display_data"
    },
    {
     "name": "stdout",
     "output_type": "stream",
     "text": [
      "Visualizing Similarity between Model 0 and Model 4\n"
     ]
    },
    {
     "data": {
      "image/png": "[encoded data removed]",
      "text/plain": [
       "<Figure size 1000x800 with 2 Axes>"
      ]
     },
     "metadata": {},
     "output_type": "display_data"
    }
   ],
   "source": [
    "import seaborn as sns\n",
    "import matplotlib.pyplot as plt\n",
    "\n",
    "# Create a function to visualize similarities\n",
    "def visualize_similarity(comparison_results):\n",
    "    # Get number of topics\n",
    "    num_topics = len(comparison_results[0])\n",
    "    \n",
    "    # Create a heatmap for similarities\n",
    "    similarity_matrix = np.zeros((num_topics, num_topics))\n",
    "    \n",
    "    for i in range(num_topics):\n",
    "        for j in range(num_topics):\n",
    "            similarity_matrix[i][j] = comparison_results[i]['similarities'][j][1]  # Get similarity score\n",
    "    \n",
    "    plt.figure(figsize=(10, 8))\n",
    "    sns.heatmap(similarity_matrix, annot=True, cmap='coolwarm', xticklabels=range(num_topics), yticklabels=range(num_topics))\n",
    "    plt.title('Topic Similarity Heatmap')\n",
    "    plt.xlabel('Topics')\n",
    "    plt.ylabel('Topics')\n",
    "    plt.show()\n",
    "\n",
    "# Call the visualization function with comparison results from Model 0 against others\n",
    "for i in range(1, len(lda_models)):\n",
    "    print(f\"Visualizing Similarity between Model 0 and Model {i}\")\n",
    "    visualize_similarity(comparison_results)"
   ]
  },
  {
   "cell_type": "markdown",
   "metadata": {},
   "source": [
    "# Task 5\n",
    "# Train an LDA with K = 10 and 50 iterations on each book separately. Compare the models by keeping your findings of task 4 in mind."
   ]
  },
  {
   "cell_type": "code",
   "execution_count": 94,
   "metadata": {},
   "outputs": [
    {
     "name": "stdout",
     "output_type": "stream",
     "text": [
      "Top words in 001ssb.txt:\n",
      "Topic 0: said, lord, would, ser, could, jon, one, hand, ned, man\n",
      "Topic 1: said, lord, would, ser, hand, could, ned, one, man, father\n",
      "Topic 2: said, would, king, hand, back, man, lord, ned, ser, one\n",
      "Topic 3: said, lord, would, ser, one, could, jon, back, bran, men\n",
      "Topic 4: said, lord, would, ser, jon, could, man, father, ned, king\n",
      "Topic 5: said, lord, would, could, hand, ser, king, jon, one, eye\n",
      "Topic 6: said, lord, jon, would, ser, ned, father, one, hand, man\n",
      "Topic 7: said, lord, one, king, would, back, ser, jon, could, ned\n",
      "Topic 8: said, lord, would, ser, could, hand, jon, king, man, ned\n",
      "Topic 9: said, lord, one, ser, would, ned, could, hand, jon, man\n",
      "--------------------------------------------------\n",
      "Top words in 002ssb.txt:\n",
      "Topic 0: one, said, would, ser, lord, man, could, king, tyrion, page\n",
      "Topic 1: lord, one, would, king, said, could, ser, see, men, man\n",
      "Topic 2: lord, said, would, man, one, could, ser, king, men, hand\n",
      "Topic 3: lord, one, said, would, ser, man, tyrion, could, well, king\n",
      "Topic 4: lord, said, would, one, ser, could, man, king, men, hand\n",
      "Topic 5: said, lord, one, would, could, king, men, man, ser, page\n",
      "Topic 6: lord, would, said, ser, one, could, tyrion, man, men, back\n",
      "Topic 7: lord, would, said, one, could, man, ser, hand, king, like\n",
      "Topic 8: said, lord, would, one, could, ser, king, men, like, back\n",
      "Topic 9: said, one, would, ser, lord, man, back, could, king, like\n",
      "--------------------------------------------------\n",
      "Top words in 003ssb.txt:\n",
      "Topic 0: said, lord, could, one, would, ser, king, hand, well, time\n",
      "Topic 1: said, lord, would, one, could, ser, man, king, back, well\n",
      "Topic 2: said, lord, one, man, could, would, king, well, back, ser\n",
      "Topic 3: lord, said, could, would, man, one, back, hand, king, ser\n",
      "Topic 4: said, lord, would, ser, could, one, well, king, back, man\n",
      "Topic 5: one, said, could, lord, would, back, hand, men, man, ser\n",
      "Topic 6: said, lord, would, well, king, could, back, one, men, ser\n",
      "Topic 7: lord, would, said, could, one, ser, well, king, back, man\n",
      "Topic 8: said, would, ser, lord, one, man, could, well, king, jaime\n",
      "Topic 9: lord, said, ser, would, one, could, king, man, know, well\n",
      "--------------------------------------------------\n",
      "Top words in 004ssb.txt:\n",
      "Topic 0: said, ser, would, man, one, could, lord, men, hand, back\n",
      "Topic 1: would, lord, said, one, ser, could, eye, man, jaime, lady\n",
      "Topic 2: one, would, said, lord, ser, could, man, even, men, jaime\n",
      "Topic 3: lord, ser, said, would, one, could, man, jaime, hand, eye\n",
      "Topic 4: would, said, man, lord, one, ser, hand, well, like, could\n",
      "Topic 5: lord, would, one, could, said, man, ser, know, back, lady\n",
      "Topic 6: would, one, lord, said, man, ser, could, jaime, lady, hand\n",
      "Topic 7: said, would, lord, one, ser, could, man, hand, jaime, men\n",
      "Topic 8: would, said, lord, one, could, ser, hand, know, man, men\n",
      "Topic 9: one, said, would, lord, ser, could, hand, told, man, lady\n",
      "--------------------------------------------------\n",
      "Top words in 005ssb.txt:\n",
      "Topic 0: would, one, men, could, said, lord, man, made, ser, hand\n",
      "Topic 1: one, said, would, lord, man, could, might, men, back, jon\n",
      "Topic 2: said, one, would, back, lord, could, men, man, well, even\n",
      "Topic 3: would, one, lord, said, could, jon, eye, man, back, men\n",
      "Topic 4: would, lord, said, one, ser, jon, hand, men, man, could\n",
      "Topic 5: would, said, one, men, lord, back, could, eye, hand, ser\n",
      "Topic 6: one, said, would, could, lord, man, back, old, men, king\n",
      "Topic 7: would, one, said, lord, could, men, man, back, jon, ser\n",
      "Topic 8: one, said, would, lord, back, man, hand, ser, men, could\n",
      "Topic 9: said, would, one, lord, could, men, hand, jon, eye, tyrion\n",
      "--------------------------------------------------\n"
     ]
    }
   ],
   "source": [
    "# Task 5: Train an LDA on each book separately\n",
    "book_models = {}\n",
    "for book_name, chapters in processed_books.items():\n",
    "    dictionary = corpora.Dictionary(chapters)\n",
    "    corpus = [dictionary.doc2bow(text) for text in chapters]\n",
    "    model = gensim.models.LdaModel(corpus, num_topics=10, id2word=dictionary, passes=50)\n",
    "    book_models[book_name] = model\n",
    "\n",
    "# Display topics for each book\n",
    "book_topics = {book: display_topics(model) for book, model in book_models.items()}\n",
    "\n",
    "# Print comparison\n",
    "for book, topics in book_topics.items():\n",
    "    print(f\"Top words in {book}:\")\n",
    "    for i, topic in enumerate(topics):\n",
    "        print(f\"Topic {i}: {', '.join(topic)}\")\n",
    "    print(\"-\" * 50)\n"
   ]
  },
  {
   "cell_type": "markdown",
   "metadata": {},
   "source": [
    "Common Words:\n",
    "\n",
    "Words like \"said,\" \"lord,\" \"would,\" \"ser,\" and \"man\" appear frequently across multiple topics in different books. This suggests that these terms are central to the narrative and may represent key characters or themes."
   ]
  }
 ],
 "metadata": {
  "kernelspec": {
   "display_name": "Python 3",
   "language": "python",
   "name": "python3"
  },
  "language_info": {
   "codemirror_mode": {
    "name": "ipython",
    "version": 3
   },
   "file_extension": ".py",
   "mimetype": "text/x-python",
   "name": "python",
   "nbconvert_exporter": "python",
   "pygments_lexer": "ipython3",
   "version": "3.9.6"
  }
 },
 "nbformat": 4,
 "nbformat_minor": 2
}
