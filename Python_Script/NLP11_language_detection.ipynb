{
 "cells": [
  {
   "cell_type": "markdown",
   "metadata": {},
   "source": [
    "# Exercise sheet 11 with the language detection.csv Load the data set into your console."
   ]
  },
  {
   "cell_type": "markdown",
   "metadata": {},
   "source": [
    "In moodle, you will find the file Language Detection.csv. In it, you will find a number of texts and the respective language they stem from. Your task is to determine the language of the texts as efficiently as possible in an unsupervised analysis.\n",
    "\n",
    "To do this, please visit Huggingface, a website on which open source transformer models are available for the public to download. Look for appropriate models that are able to solve the given task without additional training and compare their performances. Some models on Hug- gingface also provide the option for an inference API directly on the website, enabling you to test out even large language models that usually would not run on local hardware.\n",
    "Please keep in mind, that you are not meant to train the model yourselves, as transformer models take a lot of time to train on weak GPUs or even CPUs (like most Laptops have)."
   ]
  },
  {
   "cell_type": "code",
   "execution_count": 1,
   "metadata": {},
   "outputs": [
    {
     "name": "stdout",
     "output_type": "stream",
     "text": [
      "Defaulting to user installation because normal site-packages is not writeable\n",
      "Requirement already satisfied: pandas in /Users/oayanwale/Library/Python/3.9/lib/python/site-packages (2.1.3)\n",
      "Requirement already satisfied: transformers in /Users/oayanwale/Library/Python/3.9/lib/python/site-packages (4.47.1)\n",
      "Requirement already satisfied: torch in /Users/oayanwale/Library/Python/3.9/lib/python/site-packages (2.6.0)\n",
      "Requirement already satisfied: numpy<2,>=1.22.4 in /Users/oayanwale/Library/Python/3.9/lib/python/site-packages (from pandas) (1.26.2)\n",
      "Requirement already satisfied: python-dateutil>=2.8.2 in /Users/oayanwale/Library/Python/3.9/lib/python/site-packages (from pandas) (2.8.2)\n",
      "Requirement already satisfied: pytz>=2020.1 in /Users/oayanwale/Library/Python/3.9/lib/python/site-packages (from pandas) (2023.3.post1)\n",
      "Requirement already satisfied: tzdata>=2022.1 in /Users/oayanwale/Library/Python/3.9/lib/python/site-packages (from pandas) (2023.3)\n",
      "Requirement already satisfied: filelock in /Users/oayanwale/Library/Python/3.9/lib/python/site-packages (from transformers) (3.17.0)\n",
      "Requirement already satisfied: huggingface-hub<1.0,>=0.24.0 in /Users/oayanwale/Library/Python/3.9/lib/python/site-packages (from transformers) (0.28.1)\n",
      "Requirement already satisfied: packaging>=20.0 in /Users/oayanwale/Library/Python/3.9/lib/python/site-packages (from transformers) (23.2)\n",
      "Requirement already satisfied: pyyaml>=5.1 in /Users/oayanwale/Library/Python/3.9/lib/python/site-packages (from transformers) (6.0.2)\n",
      "Requirement already satisfied: regex!=2019.12.17 in /Users/oayanwale/Library/Python/3.9/lib/python/site-packages (from transformers) (2023.10.3)\n",
      "Requirement already satisfied: requests in /Users/oayanwale/Library/Python/3.9/lib/python/site-packages (from transformers) (2.32.3)\n",
      "Requirement already satisfied: tokenizers<0.22,>=0.21 in /Users/oayanwale/Library/Python/3.9/lib/python/site-packages (from transformers) (0.21.0)\n",
      "Requirement already satisfied: safetensors>=0.4.1 in /Users/oayanwale/Library/Python/3.9/lib/python/site-packages (from transformers) (0.5.2)\n",
      "Requirement already satisfied: tqdm>=4.27 in /Users/oayanwale/Library/Python/3.9/lib/python/site-packages (from transformers) (4.67.1)\n",
      "Requirement already satisfied: typing-extensions>=4.10.0 in /Users/oayanwale/Library/Python/3.9/lib/python/site-packages (from torch) (4.12.2)\n",
      "Requirement already satisfied: networkx in /Users/oayanwale/Library/Python/3.9/lib/python/site-packages (from torch) (3.2.1)\n",
      "Requirement already satisfied: jinja2 in /Users/oayanwale/Library/Python/3.9/lib/python/site-packages (from torch) (3.1.4)\n",
      "Requirement already satisfied: fsspec in /Users/oayanwale/Library/Python/3.9/lib/python/site-packages (from torch) (2024.9.0)\n",
      "Requirement already satisfied: sympy==1.13.1 in /Users/oayanwale/Library/Python/3.9/lib/python/site-packages (from torch) (1.13.1)\n",
      "Requirement already satisfied: mpmath<1.4,>=1.1.0 in /Users/oayanwale/Library/Python/3.9/lib/python/site-packages (from sympy==1.13.1->torch) (1.3.0)\n",
      "Requirement already satisfied: six>=1.5 in /Library/Developer/CommandLineTools/Library/Frameworks/Python3.framework/Versions/3.9/lib/python3.9/site-packages (from python-dateutil>=2.8.2->pandas) (1.15.0)\n",
      "Requirement already satisfied: MarkupSafe>=2.0 in /Users/oayanwale/Library/Python/3.9/lib/python/site-packages (from jinja2->torch) (3.0.2)\n",
      "Requirement already satisfied: charset-normalizer<4,>=2 in /Users/oayanwale/Library/Python/3.9/lib/python/site-packages (from requests->transformers) (3.3.2)\n",
      "Requirement already satisfied: idna<4,>=2.5 in /Users/oayanwale/Library/Python/3.9/lib/python/site-packages (from requests->transformers) (3.6)\n",
      "Requirement already satisfied: urllib3<3,>=1.21.1 in /Users/oayanwale/Library/Python/3.9/lib/python/site-packages (from requests->transformers) (2.1.0)\n",
      "Requirement already satisfied: certifi>=2017.4.17 in /Users/oayanwale/Library/Python/3.9/lib/python/site-packages (from requests->transformers) (2023.11.17)\n",
      "Note: you may need to restart the kernel to use updated packages.\n"
     ]
    }
   ],
   "source": [
    "pip install pandas transformers torch"
   ]
  },
  {
   "cell_type": "code",
   "execution_count": 4,
   "metadata": {},
   "outputs": [
    {
     "name": "stderr",
     "output_type": "stream",
     "text": [
      "Device set to use mps:0\n"
     ]
    },
    {
     "name": "stdout",
     "output_type": "stream",
     "text": [
      "                                                    Text predicted_language\n",
      "0       Nature, in the broadest sense, is the natural...                 en\n",
      "1      \"Nature\" can refer to the phenomena of the phy...                 en\n",
      "2      The study of nature is a large, if not the onl...                 en\n",
      "3      Although humans are part of nature, human acti...                 en\n",
      "4      [1] The word nature is borrowed from the Old F...                 en\n",
      "...                                                  ...                ...\n",
      "10332  ನಿಮ್ಮ ತಪ್ಪು ಏನು ಬಂದಿದೆಯೆಂದರೆ ಆ ದಿನದಿಂದ ನಿಮಗೆ ಒ...                 hi\n",
      "10333  ನಾರ್ಸಿಸಾ ತಾನು ಮೊದಲಿಗೆ ಹೆಣಗಾಡುತ್ತಿದ್ದ ಮಾರ್ಗಗಳನ್...                 hi\n",
      "10334  ಹೇಗೆ ' ನಾರ್ಸಿಸಿಸಮ್ ಈಗ ಮರಿಯನ್ ಅವರಿಗೆ ಸಂಭವಿಸಿದ ಎ...                 hi\n",
      "10335  ಅವಳು ಈಗ ಹೆಚ್ಚು ಚಿನ್ನದ ಬ್ರೆಡ್ ಬಯಸುವುದಿಲ್ಲ ಎಂದು ...                 hi\n",
      "10336  ಟೆರ್ರಿ ನೀವು ನಿಜವಾಗಿಯೂ ಆ ದೇವದೂತನಂತೆ ಸ್ವಲ್ಪ ಕಾಣು...                 hi\n",
      "\n",
      "[10337 rows x 2 columns]\n"
     ]
    }
   ],
   "source": [
    "import pandas as pd\n",
    "from transformers import pipeline\n",
    "\n",
    "# Load your CSV file\n",
    "data = pd.read_csv('/Users/oayanwale/Downloads/NLP_Exercise_23/Language_Detection.csv')\n",
    "\n",
    "# Initialize the language detection pipeline using a pre-trained model from Hugging Face\n",
    "language_detector = pipeline(\"text-classification\", model=\"papluca/xlm-roberta-base-language-detection\")\n",
    "\n",
    "# Function to detect languages for each text in the DataFrame\n",
    "def detect_language(text):\n",
    "    # Truncate text if it's longer than 512 characters\n",
    "    max_length = 512\n",
    "    if len(text) > max_length:\n",
    "        text = text[:max_length]\n",
    "    \n",
    "    result = language_detector(text)\n",
    "    return result[0]['label']  # Extracting the predicted label\n",
    "\n",
    "# Apply the function to the 'Text' column of your DataFrame (assuming it has a column named 'Text')\n",
    "data['predicted_language'] = data['Text'].apply(detect_language)\n",
    "\n",
    "# Save results to a new CSV file or display them\n",
    "#data.to_csv('/Users/oayanwale/Downloads/NLP_Exercise_23/Language_Detection_Results.csv', index=False)\n",
    "print(data[['Text', 'predicted_language']])"
   ]
  }
 ],
 "metadata": {
  "kernelspec": {
   "display_name": "Python 3",
   "language": "python",
   "name": "python3"
  },
  "language_info": {
   "codemirror_mode": {
    "name": "ipython",
    "version": 3
   },
   "file_extension": ".py",
   "mimetype": "text/x-python",
   "name": "python",
   "nbconvert_exporter": "python",
   "pygments_lexer": "ipython3",
   "version": "3.9.6"
  }
 },
 "nbformat": 4,
 "nbformat_minor": 2
}
